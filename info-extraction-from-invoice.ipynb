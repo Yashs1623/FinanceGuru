{
 "cells": [
  {
   "cell_type": "markdown",
   "id": "59a73bc2",
   "metadata": {
    "papermill": {
     "duration": 0.01236,
     "end_time": "2023-02-27T05:07:06.701089",
     "exception": false,
     "start_time": "2023-02-27T05:07:06.688729",
     "status": "completed"
    },
    "tags": []
   },
   "source": [
    "# Task To Do \n",
    "#Extract the Following information fromt he Given Image\n",
    "1. Group information for the entities Bill To, Ship To, Invoice, Invoice date, P. O. and Due date\n",
    "2. Extract table data in csv format or xls format\n",
    "3. Extract Handwritten signature from Invoice "
   ]
  },
  {
   "cell_type": "code",
   "execution_count": 1,
   "id": "17ccdb4a",
   "metadata": {
    "_cell_guid": "4306309a-15ca-44be-82f8-cbcfbb4e8f27",
    "_uuid": "5036e327-e5cb-4a2f-bfe2-2547c93ada81",
    "collapsed": true,
    "execution": {
     "iopub.execute_input": "2023-02-27T05:07:06.721720Z",
     "iopub.status.busy": "2023-02-27T05:07:06.720703Z",
     "iopub.status.idle": "2023-02-27T05:08:29.876290Z",
     "shell.execute_reply": "2023-02-27T05:08:29.874452Z"
    },
    "jupyter": {
     "outputs_hidden": true
    },
    "papermill": {
     "duration": 83.170146,
     "end_time": "2023-02-27T05:08:29.879976",
     "exception": false,
     "start_time": "2023-02-27T05:07:06.709830",
     "status": "completed"
    },
    "tags": []
   },
   "outputs": [
    {
     "name": "stdout",
     "output_type": "stream",
     "text": [
      "/bin/bash: /opt/conda/lib/libtinfo.so.6: no version information available (required by /bin/bash)\r\n",
      "Collecting https://github.com/myhub/tr/archive/1.5.1.zip\r\n",
      "  Downloading https://github.com/myhub/tr/archive/1.5.1.zip\r\n",
      "\u001b[2K     \u001b[32m|\u001b[0m \u001b[32m177.5 MB\u001b[0m \u001b[31m54.0 MB/s\u001b[0m \u001b[33m0:00:24\u001b[0m\r\n",
      "\u001b[?25h  Preparing metadata (setup.py) ... \u001b[?25l-\b \bdone\r\n",
      "\u001b[?25hBuilding wheels for collected packages: tr\r\n",
      "  Building wheel for tr (setup.py) ... \u001b[?25l-\b \b\\\b \b|\b \b/\b \b-\b \b\\\b \b|\b \b/\b \b-\b \b\\\b \b|\b \b/\b \bdone\r\n",
      "\u001b[?25h  Created wheel for tr: filename=tr-1.5.0-py3-none-any.whl size=162900369 sha256=23e5525434037b12fba9b69aef8a098ce103b8e7ef1131951df4b5a04ad1278e\r\n",
      "  Stored in directory: /tmp/pip-ephem-wheel-cache-1p62ff5a/wheels/e8/24/f6/fa325b41760077cc82fdb1745a4cb3ef7f6ac8fd8c5f37e6f2\r\n",
      "Successfully built tr\r\n",
      "Installing collected packages: tr\r\n",
      "Successfully installed tr-1.5.0\r\n",
      "\u001b[33mWARNING: Running pip as the 'root' user can result in broken permissions and conflicting behaviour with the system package manager. It is recommended to use a virtual environment instead: https://pip.pypa.io/warnings/venv\u001b[0m\u001b[33m\r\n",
      "\u001b[0m/bin/bash: /opt/conda/lib/libtinfo.so.6: no version information available (required by /bin/bash)\r\n",
      "Collecting imutils\r\n",
      "  Downloading imutils-0.5.4.tar.gz (17 kB)\r\n",
      "  Preparing metadata (setup.py) ... \u001b[?25l-\b \bdone\r\n",
      "\u001b[?25hBuilding wheels for collected packages: imutils\r\n",
      "  Building wheel for imutils (setup.py) ... \u001b[?25l-\b \b\\\b \bdone\r\n",
      "\u001b[?25h  Created wheel for imutils: filename=imutils-0.5.4-py3-none-any.whl size=25858 sha256=5a707f609f71bf30a8f5356846765cd69e36e8b69aa34fe2f0ca7c4b99f35171\r\n",
      "  Stored in directory: /root/.cache/pip/wheels/86/d7/0a/4923351ed1cec5d5e24c1eaf8905567b02a0343b24aa873df2\r\n",
      "Successfully built imutils\r\n",
      "Installing collected packages: imutils\r\n",
      "Successfully installed imutils-0.5.4\r\n",
      "\u001b[33mWARNING: Running pip as the 'root' user can result in broken permissions and conflicting behaviour with the system package manager. It is recommended to use a virtual environment instead: https://pip.pypa.io/warnings/venv\u001b[0m\u001b[33m\r\n",
      "\u001b[0m"
     ]
    }
   ],
   "source": [
    "# installing the pre-trained text detection algorithm\n",
    "!pip install https://github.com/myhub/tr/archive/1.5.1.zip\n",
    "!pip install imutils"
   ]
  },
  {
   "cell_type": "code",
   "execution_count": 2,
   "id": "ecea353e",
   "metadata": {
    "_cell_guid": "a87e85a0-b647-41b0-947b-f3fea1c0558f",
    "_uuid": "096af154-577c-42f2-a2bd-4849261af6e8",
    "collapsed": false,
    "execution": {
     "iopub.execute_input": "2023-02-27T05:08:29.961415Z",
     "iopub.status.busy": "2023-02-27T05:08:29.960963Z",
     "iopub.status.idle": "2023-02-27T05:08:32.270833Z",
     "shell.execute_reply": "2023-02-27T05:08:32.269779Z"
    },
    "jupyter": {
     "outputs_hidden": false
    },
    "papermill": {
     "duration": 2.354113,
     "end_time": "2023-02-27T05:08:32.273592",
     "exception": false,
     "start_time": "2023-02-27T05:08:29.919479",
     "status": "completed"
    },
    "tags": []
   },
   "outputs": [
    {
     "name": "stdout",
     "output_type": "stream",
     "text": [
      "# tr 1.5.0 https://github.com/myhub/tr\r\n"
     ]
    }
   ],
   "source": [
    "from tr import *\n",
    "from PIL import Image, ImageDraw, ImageFont\n",
    "import numpy as np # linear algebra\n",
    "import pandas as pd # data processing, CSV file I/O (e.g. pd.read_csv)\n",
    "import matplotlib.pyplot as plt\n",
    "\n",
    "from sklearn.cluster import AgglomerativeClustering\n",
    "import imutils\n",
    "import cv2"
   ]
  },
  {
   "cell_type": "code",
   "execution_count": 3,
   "id": "b9186253",
   "metadata": {
    "execution": {
     "iopub.execute_input": "2023-02-27T05:08:32.353063Z",
     "iopub.status.busy": "2023-02-27T05:08:32.352671Z",
     "iopub.status.idle": "2023-02-27T05:08:32.366115Z",
     "shell.execute_reply": "2023-02-27T05:08:32.364848Z"
    },
    "papermill": {
     "duration": 0.056171,
     "end_time": "2023-02-27T05:08:32.368686",
     "exception": false,
     "start_time": "2023-02-27T05:08:32.312515",
     "status": "completed"
    },
    "tags": []
   },
   "outputs": [],
   "source": [
    "# Signature Extraction from the IMage\n",
    "def Signature_extraction(img_path):\n",
    "    image = cv2.imread(img_path)\n",
    "    gray = cv2.cvtColor(image, cv2.COLOR_BGR2GRAY)\n",
    "    #gray = image\n",
    "\n",
    "    # initialize a rectangular kernel that is ~5x wider than it is tall,\n",
    "    # then smooth the image using a 3x3 Gaussian blur and then apply a\n",
    "    # blackhat morphological operator to find dark regions on a light\n",
    "    # background\n",
    "    kernel = cv2.getStructuringElement(cv2.MORPH_RECT, (3, 3))\n",
    "    gray = cv2.GaussianBlur(gray, (3, 3), 0)\n",
    "    blackhat = cv2.morphologyEx(gray, cv2.MORPH_BLACKHAT, kernel)\n",
    "    #plt.imshow(blackhat)\n",
    "    # compute the Scharr gradient of the blackhat image and scale the\n",
    "    # result into the range [0, 255]\n",
    "    grad = cv2.Sobel(blackhat, ddepth=cv2.CV_32F, dx=1, dy=0, ksize=-1)\n",
    "    grad = np.absolute(grad)\n",
    "    #plt.imshow(grad)\n",
    "\n",
    "    (minVal, maxVal) = (np.min(grad), np.max(grad))\n",
    "    grad = (grad - minVal) / (maxVal - minVal)\n",
    "    grad = (grad * 255).astype(\"uint8\")\n",
    "    #plt.imshow(grad)\n",
    "\n",
    "    # apply a closing operation using the rectangular kernel to close\n",
    "    # gaps in between characters, apply Otsu's thresholding method, and\n",
    "    # finally a dilation operation to enlarge foreground regions\n",
    "    grad = cv2.morphologyEx(grad, cv2.MORPH_CLOSE, kernel)\n",
    "    thresh = cv2.threshold(grad, 0, 255,cv2.THRESH_BINARY | cv2.THRESH_OTSU)[1]\n",
    "    thresh = cv2.dilate(thresh, None, iterations=6)\n",
    "    #plt.imshow(thresh)\n",
    "\n",
    "    # find contours in the thresholded image and grab the largest one,\n",
    "    # which we will assume is the stats table\n",
    "    cnts = cv2.findContours(thresh.copy(), cv2.RETR_EXTERNAL,cv2.CHAIN_APPROX_SIMPLE)\n",
    "    cnts = imutils.grab_contours(cnts)\n",
    "    tableCnt = max(cnts, key=cv2.contourArea)\n",
    "    # compute the bounding box coordinates of the stats table and extract\n",
    "    # the table from the input image\n",
    "    (x, y, w, h) = cv2.boundingRect(tableCnt)\n",
    "    \n",
    "    # extraction of signature from the image and saving to a png file\n",
    "    Signature = image[y:y + h, x:x + w].copy()\n",
    "    sign_path = '/kaggle/working/Signature.png'\n",
    "    plt.imsave(sign_path,Signature)\n",
    "    \n",
    "    image[y:y + h, x:x + w] = np.ones(Signature.shape)*255\n",
    "    \n",
    "    img_path = '/kaggle/working/invoice.png'\n",
    "    plt.imsave(img_path,image)\n",
    "    \n",
    "    return img_path,sign_path"
   ]
  },
  {
   "cell_type": "code",
   "execution_count": 4,
   "id": "909d0c73",
   "metadata": {
    "_cell_guid": "9a08ea66-a7f4-49fa-a89a-64c6b671f25b",
    "_uuid": "9a849757-f49c-4c84-8f4c-862f41d4cb90",
    "collapsed": false,
    "execution": {
     "iopub.execute_input": "2023-02-27T05:08:32.450561Z",
     "iopub.status.busy": "2023-02-27T05:08:32.450093Z",
     "iopub.status.idle": "2023-02-27T05:08:32.463793Z",
     "shell.execute_reply": "2023-02-27T05:08:32.462634Z"
    },
    "jupyter": {
     "outputs_hidden": false
    },
    "papermill": {
     "duration": 0.057023,
     "end_time": "2023-02-27T05:08:32.466220",
     "exception": false,
     "start_time": "2023-02-27T05:08:32.409197",
     "status": "completed"
    },
    "tags": []
   },
   "outputs": [],
   "source": [
    "# text detection function from a given image \n",
    "def img_to_text(img_path):\n",
    "    \n",
    "    #Image Preprocessing \n",
    "    \n",
    "    img_pil = Image.open(img_path)\n",
    "    MAX_SIZE = 2000\n",
    "    \n",
    "    #image Resize to limit the max size to a certain limit\n",
    "    if img_pil.height > MAX_SIZE or img_pil.width > MAX_SIZE:\n",
    "        scale = max(img_pil.height / MAX_SIZE, img_pil.width / MAX_SIZE)\n",
    "\n",
    "        new_width = int(img_pil.width / scale + 0.5)\n",
    "        new_height = int(img_pil.height / scale + 0.5)\n",
    "        img_pil = img_pil.resize((new_width, new_height), Image.BICUBIC)\n",
    "\n",
    "    \n",
    "    # Convert the IMage to gray image \n",
    "    gray_pil = img_pil.convert(\"L\")\n",
    "\n",
    "    # Text Detection in the IMage\n",
    "    rect_arr = detect(img_pil, FLAG_RECT)\n",
    "\n",
    "    # Initiate an empty image to recreate the text alone\n",
    "    img_draw = ImageDraw.Draw(img_pil)\n",
    "    colors = ['green']\n",
    "\n",
    "    # rewite the Image with Appropriate text\n",
    "    for i, rect in enumerate(rect_arr):\n",
    "        x, y, w, h = rect\n",
    "        img_draw.rectangle( (x, y, x + w, y + h),\n",
    "                            outline=colors[i % len(colors)],\n",
    "                            width=4\n",
    "                          )\n",
    "\n",
    "    return img_pil,gray_pil\n",
    "\n",
    "\n",
    "# this shows detected text and it’s location on the image\n",
    "def detected_text_on_image(gray_pil):\n",
    "    blank_pil = Image.new(\"L\", img_pil.size, 255)\n",
    "    blank_draw = ImageDraw.Draw(blank_pil)\n",
    "\n",
    "    results = run(gray_pil)\n",
    "    for line in results:\n",
    "        x, y, w, h = line[0]\n",
    "        txt = line[1]\n",
    "        font = ImageFont.truetype(\"/kaggle/input/ocr-test/msyh.ttf\", max(int(h * 0.6), 14))\n",
    "        blank_draw.text(xy=(x, y), text=txt, font=font)\n",
    "\n",
    "    return blank_pil\n",
    "\n",
    "def print_detected_text(gray_pil):\n",
    "    \n",
    "    # To view the Predictions fromt he Given IMage\n",
    "    results = run(gray_pil)\n",
    "    rslt = \"\"\n",
    "    for line in results:\n",
    "        x, y, w, h = line[0]\n",
    "        txt = line[1]\n",
    "        rslt = rslt + \" \" + txt\n",
    "        print(line[0])\n",
    "        print(line[1])\n",
    "        print(\"=================================\")\n",
    "\n",
    "    return"
   ]
  },
  {
   "cell_type": "code",
   "execution_count": 5,
   "id": "e22c92e5",
   "metadata": {
    "execution": {
     "iopub.execute_input": "2023-02-27T05:08:32.547924Z",
     "iopub.status.busy": "2023-02-27T05:08:32.547483Z",
     "iopub.status.idle": "2023-02-27T05:08:32.559278Z",
     "shell.execute_reply": "2023-02-27T05:08:32.558141Z"
    },
    "papermill": {
     "duration": 0.054879,
     "end_time": "2023-02-27T05:08:32.561755",
     "exception": false,
     "start_time": "2023-02-27T05:08:32.506876",
     "status": "completed"
    },
    "tags": []
   },
   "outputs": [],
   "source": [
    "# bill and Item iternary information extrcation from the predicted text info\n",
    "\n",
    "def Bill_item_info_cluster_extraction(gray_pil):\n",
    "    # predictions on the gray image with run method from installed pre-trained Model\n",
    "    results = run(gray_pil)\n",
    "    #intialising the variables\n",
    "    Y_mean = []\n",
    "    Bbox = []\n",
    "    Text = []\n",
    "    # iterating over the predictions\n",
    "    for predct in results:\n",
    "        txt = predct[1]\n",
    "        Text.append(txt)\n",
    "\n",
    "        x, y, w, h = predct[0]\n",
    "        Y_mean.append(np.array([y+(h/2)]))\n",
    "        Bbox.append([x, y, w, h])\n",
    "\n",
    "\n",
    "    Y_mean = np.array(Y_mean)\n",
    "    df_clusters = pd.DataFrame(Text, columns = ['Text'])\n",
    "    df_clusters['Y_mean'] = Y_mean\n",
    "\n",
    "    # data frame for ['x','y','w','h'] values\n",
    "    df_Bbox = pd.DataFrame(Bbox,columns = ['x','y','w','h'])\n",
    "    df_clusters = pd.concat([df_clusters,df_Bbox],axis=1)\n",
    "\n",
    "    # randomly chosen dataset\n",
    "    X = Y_mean  #np.array(list(Y_cluster.values()))\n",
    "\n",
    "    # here we need to mention the number of clusters\n",
    "    # otherwise the result will be a single cluster\n",
    "    # containing all the data\n",
    "    # Number of clusters based on the obesrvation and text distributions in the image\n",
    "    clustering = AgglomerativeClustering(n_clusters = 4).fit(X)\n",
    "\n",
    "    df_clusters['Y_clusters'] = clustering.labels_\n",
    "\n",
    "    df_ygroups = df_clusters.groupby('Y_clusters')\n",
    "\n",
    "    for i in range(4):\n",
    "        txt_cluster = df_clusters.iloc[df_ygroups.groups[i]].Text.values\n",
    "\n",
    "        if 'Bill To' in txt_cluster:\n",
    "            df_bill = df_clusters.loc[df_ygroups.groups[i]]\n",
    "        elif 'QTY' in txt_cluster:\n",
    "            df_items = df_clusters.loc[df_ygroups.groups[i]]\n",
    "        else:\n",
    "            1\n",
    "\n",
    "    return df_bill,df_items"
   ]
  },
  {
   "cell_type": "code",
   "execution_count": 6,
   "id": "3e5bfbec",
   "metadata": {
    "execution": {
     "iopub.execute_input": "2023-02-27T05:08:32.644563Z",
     "iopub.status.busy": "2023-02-27T05:08:32.644098Z",
     "iopub.status.idle": "2023-02-27T05:08:32.653993Z",
     "shell.execute_reply": "2023-02-27T05:08:32.652876Z"
    },
    "papermill": {
     "duration": 0.055195,
     "end_time": "2023-02-27T05:08:32.656507",
     "exception": false,
     "start_time": "2023-02-27T05:08:32.601312",
     "status": "completed"
    },
    "tags": []
   },
   "outputs": [],
   "source": [
    "def Billing_info_extraction(df_bill):    \n",
    "    df_bill['X_mean'] = np.array(df_bill['x']+df_bill['w']/2)\n",
    "    df_bill\n",
    "\n",
    "    Xmn = []\n",
    "    for i in df_bill['X_mean'].values:\n",
    "        Xmn.append(np.array([i]))\n",
    "\n",
    "    Xmn = np.array(Xmn)\n",
    "\n",
    "    # randomly chosen dataset\n",
    "    X = Xmn  #np.array(list(Y_cluster.values()))\n",
    "\n",
    "    # here we need to mention the number of clusters\n",
    "    # otherwise the result will be a single cluster\n",
    "    # containing all the data\n",
    "    clustering = AgglomerativeClustering(n_clusters = 4).fit(X)\n",
    "\n",
    "    df_bill['X_cluster'] = clustering.labels_\n",
    "    #df_bill.sort_values('X_cluster',ascending=True,inplace=True)\n",
    "\n",
    "    df_bill_Xcluster = df_bill.groupby('X_cluster')\n",
    "\n",
    "    Bill_info = {}\n",
    "    for i in range(4):\n",
    "        txt_cluster = df_bill.loc[df_bill_Xcluster.groups[i]]['Text'].values\n",
    "\n",
    "        if 'Bill To' in txt_cluster:\n",
    "            Bill_info[txt_cluster[0]] = txt_cluster[1:]\n",
    "        elif 'Ship To' in txt_cluster:\n",
    "            Bill_info[txt_cluster[0]] = txt_cluster[1:]\n",
    "        elif 'P.O.#' in txt_cluster:\n",
    "            Invoice = txt_cluster\n",
    "        else:\n",
    "            dat = txt_cluster\n",
    "\n",
    "    for i in range(len(Invoice)):\n",
    "        Bill_info[Invoice[i]] = dat[i]\n",
    "\n",
    "    return Bill_info"
   ]
  },
  {
   "cell_type": "code",
   "execution_count": 7,
   "id": "05be240c",
   "metadata": {
    "execution": {
     "iopub.execute_input": "2023-02-27T05:08:32.738298Z",
     "iopub.status.busy": "2023-02-27T05:08:32.737845Z",
     "iopub.status.idle": "2023-02-27T05:08:32.749137Z",
     "shell.execute_reply": "2023-02-27T05:08:32.747919Z"
    },
    "papermill": {
     "duration": 0.054794,
     "end_time": "2023-02-27T05:08:32.751804",
     "exception": false,
     "start_time": "2023-02-27T05:08:32.697010",
     "status": "completed"
    },
    "tags": []
   },
   "outputs": [],
   "source": [
    "def iternary_pricing_table(df_items):\n",
    "    df_items['X_max'] = np.array(df_items['x']+df_items['w'])\n",
    "\n",
    "    X_max = []\n",
    "    for i in df_items['X_max'].values:\n",
    "        X_max.append(np.array([i]))\n",
    "\n",
    "    X_max = np.array(X_max)\n",
    "\n",
    "    # randomly chosen dataset\n",
    "    X = X_max  #np.array(list(Y_cluster.values()))\n",
    "\n",
    "    # here we need to mention the number of clusters\n",
    "    # otherwise the result will be a single cluster\n",
    "    # containing all the data\n",
    "    clustering = AgglomerativeClustering(n_clusters = 4).fit(X)\n",
    "\n",
    "    df_items['X_cluster'] = clustering.labels_\n",
    "\n",
    "    df_items.sort_values('X_cluster',ascending=True,inplace=True)\n",
    "    df_items_Xcluster = df_items.groupby('X_cluster')\n",
    "\n",
    "\n",
    "    for i in range(4):\n",
    "        txt_cluster = df_items.loc[df_items_Xcluster.groups[i]].sort_values('y').Text.values\n",
    "\n",
    "        if 'QTY' in txt_cluster:\n",
    "            df_qty = pd.DataFrame(txt_cluster)\n",
    "        elif 'UNIT PRICE' in txt_cluster:\n",
    "            df_Uprice = pd.DataFrame(txt_cluster)\n",
    "        elif 'AMOUNT' in txt_cluster:\n",
    "            df_amnt = pd.DataFrame(txt_cluster)\n",
    "        else:\n",
    "            df_desc = pd.DataFrame(txt_cluster)\n",
    "\n",
    "\n",
    "    items_table = pd.concat([df_qty,df_desc,df_Uprice,df_amnt], axis=1)\n",
    "    \n",
    "    items_table.fillna('___',inplace=True)\n",
    "    items_table.columns = items_table.loc[0]\n",
    "    items_table = items_table.loc[1:]\n",
    "\n",
    "    return items_table"
   ]
  },
  {
   "cell_type": "code",
   "execution_count": 8,
   "id": "53f0b139",
   "metadata": {
    "execution": {
     "iopub.execute_input": "2023-02-27T05:08:32.832723Z",
     "iopub.status.busy": "2023-02-27T05:08:32.832278Z",
     "iopub.status.idle": "2023-02-27T05:08:32.839004Z",
     "shell.execute_reply": "2023-02-27T05:08:32.837843Z"
    },
    "papermill": {
     "duration": 0.049915,
     "end_time": "2023-02-27T05:08:32.841276",
     "exception": false,
     "start_time": "2023-02-27T05:08:32.791361",
     "status": "completed"
    },
    "tags": []
   },
   "outputs": [],
   "source": [
    "# Main Function\n",
    "def Main(img_path):\n",
    "    \n",
    "    img_path,sign_path = Signature_extraction(img_path)\n",
    "    \n",
    "    # Takes image path as input and returns the text predictions on the image\n",
    "    img_pil,gray_pil = img_to_text(img_path)\n",
    "    \n",
    "    # Extracted text from a string\n",
    "    #detected_text_on_image(gray_pil)\n",
    "    \n",
    "    # to visuavalise the printed text fromt he Image\n",
    "    #print_detected_text(gray_pil)\n",
    "    \n",
    "    # extracting df_bill,df_items from the predicted text information\n",
    "    df_bill,df_items = Bill_item_info_cluster_extraction(gray_pil)\n",
    "    \n",
    "    # Billing info Extraction Process\n",
    "    Bill_info_dct = Billing_info_extraction(df_bill)\n",
    "    \n",
    "    price_table = iternary_pricing_table(df_items)\n",
    "    \n",
    "    return Bill_info_dct, price_table, sign_path"
   ]
  },
  {
   "cell_type": "markdown",
   "id": "c2482acd",
   "metadata": {
    "papermill": {
     "duration": 0.038553,
     "end_time": "2023-02-27T05:08:32.919133",
     "exception": false,
     "start_time": "2023-02-27T05:08:32.880580",
     "status": "completed"
    },
    "tags": []
   },
   "source": [
    "# Main Function"
   ]
  },
  {
   "cell_type": "code",
   "execution_count": 9,
   "id": "ed1bd703",
   "metadata": {
    "execution": {
     "iopub.execute_input": "2023-02-27T05:08:33.016333Z",
     "iopub.status.busy": "2023-02-27T05:08:33.015758Z",
     "iopub.status.idle": "2023-02-27T05:08:33.021812Z",
     "shell.execute_reply": "2023-02-27T05:08:33.020299Z"
    },
    "papermill": {
     "duration": 0.065345,
     "end_time": "2023-02-27T05:08:33.024413",
     "exception": false,
     "start_time": "2023-02-27T05:08:32.959068",
     "status": "completed"
    },
    "tags": []
   },
   "outputs": [],
   "source": [
    "img_path = '/kaggle/input/invoice-sample/invoice-template-in-classic-white-750px.png'"
   ]
  },
  {
   "cell_type": "code",
   "execution_count": 10,
   "id": "e4b5c7e0",
   "metadata": {
    "execution": {
     "iopub.execute_input": "2023-02-27T05:08:33.113592Z",
     "iopub.status.busy": "2023-02-27T05:08:33.113130Z",
     "iopub.status.idle": "2023-02-27T05:08:39.102030Z",
     "shell.execute_reply": "2023-02-27T05:08:39.100967Z"
    },
    "papermill": {
     "duration": 6.032499,
     "end_time": "2023-02-27T05:08:39.104740",
     "exception": false,
     "start_time": "2023-02-27T05:08:33.072241",
     "status": "completed"
    },
    "tags": []
   },
   "outputs": [],
   "source": [
    "img_path = '/kaggle/input/invoice-sample/invoice-template-in-classic-white-750px.png'\n",
    "Bill_info_dct, price_table, sign_path = Main(img_path)"
   ]
  },
  {
   "cell_type": "code",
   "execution_count": 11,
   "id": "c8127d39",
   "metadata": {
    "execution": {
     "iopub.execute_input": "2023-02-27T05:08:39.186647Z",
     "iopub.status.busy": "2023-02-27T05:08:39.185824Z",
     "iopub.status.idle": "2023-02-27T05:08:39.196432Z",
     "shell.execute_reply": "2023-02-27T05:08:39.195306Z"
    },
    "papermill": {
     "duration": 0.053763,
     "end_time": "2023-02-27T05:08:39.198827",
     "exception": false,
     "start_time": "2023-02-27T05:08:39.145064",
     "status": "completed"
    },
    "tags": []
   },
   "outputs": [
    {
     "data": {
      "text/plain": [
       "{'Ship To': array(['Kavindra Mannan', '264,Abdul Rehman', 'Mumbai,Bihar 40009'],\n",
       "       dtype=object),\n",
       " 'Bill To': array(['Kavindra Mannan', '27,Dlf City,Gupta', 'Delhi,Delhi 40003'],\n",
       "       dtype=object),\n",
       " 'lnvoice#': 'IN-001',\n",
       " 'Invoice Date': '29/01/2019',\n",
       " 'P.O.#': '2430/2019',\n",
       " 'Due Date': '26/04/2019'}"
      ]
     },
     "execution_count": 11,
     "metadata": {},
     "output_type": "execute_result"
    }
   ],
   "source": [
    "Bill_info_dct"
   ]
  },
  {
   "cell_type": "code",
   "execution_count": 12,
   "id": "43be98a0",
   "metadata": {
    "execution": {
     "iopub.execute_input": "2023-02-27T05:08:39.281107Z",
     "iopub.status.busy": "2023-02-27T05:08:39.280303Z",
     "iopub.status.idle": "2023-02-27T05:08:39.295189Z",
     "shell.execute_reply": "2023-02-27T05:08:39.294121Z"
    },
    "papermill": {
     "duration": 0.059227,
     "end_time": "2023-02-27T05:08:39.297447",
     "exception": false,
     "start_time": "2023-02-27T05:08:39.238220",
     "status": "completed"
    },
    "tags": []
   },
   "outputs": [
    {
     "data": {
      "text/html": [
       "<div>\n",
       "<style scoped>\n",
       "    .dataframe tbody tr th:only-of-type {\n",
       "        vertical-align: middle;\n",
       "    }\n",
       "\n",
       "    .dataframe tbody tr th {\n",
       "        vertical-align: top;\n",
       "    }\n",
       "\n",
       "    .dataframe thead th {\n",
       "        text-align: right;\n",
       "    }\n",
       "</style>\n",
       "<table border=\"1\" class=\"dataframe\">\n",
       "  <thead>\n",
       "    <tr style=\"text-align: right;\">\n",
       "      <th></th>\n",
       "      <th>QTY</th>\n",
       "      <th>DESCRIPTION</th>\n",
       "      <th>UNIT PRICE</th>\n",
       "      <th>AMOUNT</th>\n",
       "    </tr>\n",
       "  </thead>\n",
       "  <tbody>\n",
       "    <tr>\n",
       "      <th>1</th>\n",
       "      <td>1</td>\n",
       "      <td>Frontend design restructure</td>\n",
       "      <td>9,999.00</td>\n",
       "      <td>9,999.00</td>\n",
       "    </tr>\n",
       "    <tr>\n",
       "      <th>2</th>\n",
       "      <td>2</td>\n",
       "      <td>Custom icon package</td>\n",
       "      <td>975.00</td>\n",
       "      <td>1,950.00</td>\n",
       "    </tr>\n",
       "    <tr>\n",
       "      <th>3</th>\n",
       "      <td>3</td>\n",
       "      <td>Gandhi mouse pad</td>\n",
       "      <td>99.00</td>\n",
       "      <td>297.00</td>\n",
       "    </tr>\n",
       "    <tr>\n",
       "      <th>4</th>\n",
       "      <td>___</td>\n",
       "      <td>___</td>\n",
       "      <td>Subtotal</td>\n",
       "      <td>12,246.00</td>\n",
       "    </tr>\n",
       "    <tr>\n",
       "      <th>5</th>\n",
       "      <td>___</td>\n",
       "      <td>___</td>\n",
       "      <td>GST 12.0%</td>\n",
       "      <td>1,469.52</td>\n",
       "    </tr>\n",
       "    <tr>\n",
       "      <th>6</th>\n",
       "      <td>___</td>\n",
       "      <td>___</td>\n",
       "      <td>TOTAL</td>\n",
       "      <td>※13,715.52</td>\n",
       "    </tr>\n",
       "  </tbody>\n",
       "</table>\n",
       "</div>"
      ],
      "text/plain": [
       "0  QTY                  DESCRIPTION UNIT PRICE      AMOUNT\n",
       "1    1  Frontend design restructure   9,999.00    9,999.00\n",
       "2    2          Custom icon package     975.00    1,950.00\n",
       "3    3             Gandhi mouse pad      99.00      297.00\n",
       "4  ___                          ___   Subtotal   12,246.00\n",
       "5  ___                          ___  GST 12.0%    1,469.52\n",
       "6  ___                          ___      TOTAL  ※13,715.52"
      ]
     },
     "execution_count": 12,
     "metadata": {},
     "output_type": "execute_result"
    }
   ],
   "source": [
    "price_table"
   ]
  },
  {
   "cell_type": "code",
   "execution_count": 13,
   "id": "a7444764",
   "metadata": {
    "execution": {
     "iopub.execute_input": "2023-02-27T05:08:39.378499Z",
     "iopub.status.busy": "2023-02-27T05:08:39.377766Z",
     "iopub.status.idle": "2023-02-27T05:08:39.686683Z",
     "shell.execute_reply": "2023-02-27T05:08:39.685471Z"
    },
    "papermill": {
     "duration": 0.353114,
     "end_time": "2023-02-27T05:08:39.689893",
     "exception": false,
     "start_time": "2023-02-27T05:08:39.336779",
     "status": "completed"
    },
    "tags": []
   },
   "outputs": [
    {
     "data": {
      "text/plain": [
       "<matplotlib.image.AxesImage at 0x7f2002918610>"
      ]
     },
     "execution_count": 13,
     "metadata": {},
     "output_type": "execute_result"
    },
    {
     "data": {
      "image/png": "[encoded data removed]",
      "text/plain": [
       "<Figure size 640x480 with 1 Axes>"
      ]
     },
     "metadata": {},
     "output_type": "display_data"
    }
   ],
   "source": [
    "sign = plt.imread(sign_path)\n",
    "plt.imshow(sign)"
   ]
  },
  {
   "cell_type": "markdown",
   "id": "3e987ae5",
   "metadata": {
    "papermill": {
     "duration": 0.040312,
     "end_time": "2023-02-27T05:08:39.771393",
     "exception": false,
     "start_time": "2023-02-27T05:08:39.731081",
     "status": "completed"
    },
    "tags": []
   },
   "source": [
    "# Visualisation of the Results"
   ]
  },
  {
   "cell_type": "code",
   "execution_count": 14,
   "id": "6c302650",
   "metadata": {
    "execution": {
     "iopub.execute_input": "2023-02-27T05:08:39.855339Z",
     "iopub.status.busy": "2023-02-27T05:08:39.854623Z",
     "iopub.status.idle": "2023-02-27T05:08:39.859086Z",
     "shell.execute_reply": "2023-02-27T05:08:39.857939Z"
    },
    "papermill": {
     "duration": 0.049297,
     "end_time": "2023-02-27T05:08:39.861625",
     "exception": false,
     "start_time": "2023-02-27T05:08:39.812328",
     "status": "completed"
    },
    "tags": []
   },
   "outputs": [],
   "source": [
    "#image path as input to the processing code\n",
    "img_path = '/kaggle/input/invoice-sample/invoice-template-in-classic-white-750px.png'"
   ]
  },
  {
   "cell_type": "code",
   "execution_count": 15,
   "id": "46d4616c",
   "metadata": {
    "execution": {
     "iopub.execute_input": "2023-02-27T05:08:39.944832Z",
     "iopub.status.busy": "2023-02-27T05:08:39.944354Z",
     "iopub.status.idle": "2023-02-27T05:08:40.051591Z",
     "shell.execute_reply": "2023-02-27T05:08:40.050458Z"
    },
    "papermill": {
     "duration": 0.152388,
     "end_time": "2023-02-27T05:08:40.054601",
     "exception": false,
     "start_time": "2023-02-27T05:08:39.902213",
     "status": "completed"
    },
    "tags": []
   },
   "outputs": [],
   "source": [
    "#signature extraction from the image\n",
    "img_path,sign_path = Signature_extraction(img_path)"
   ]
  },
  {
   "cell_type": "code",
   "execution_count": 16,
   "id": "bade33d9",
   "metadata": {
    "execution": {
     "iopub.execute_input": "2023-02-27T05:08:40.139486Z",
     "iopub.status.busy": "2023-02-27T05:08:40.139031Z",
     "iopub.status.idle": "2023-02-27T05:08:40.426327Z",
     "shell.execute_reply": "2023-02-27T05:08:40.425149Z"
    },
    "papermill": {
     "duration": 0.332561,
     "end_time": "2023-02-27T05:08:40.428874",
     "exception": false,
     "start_time": "2023-02-27T05:08:40.096313",
     "status": "completed"
    },
    "tags": []
   },
   "outputs": [
    {
     "data": {
      "text/plain": [
       "<matplotlib.image.AxesImage at 0x7f1ff84d7e10>"
      ]
     },
     "execution_count": 16,
     "metadata": {},
     "output_type": "execute_result"
    },
    {
     "data": {
      "image/png": "[encoded data removed]",
      "text/plain": [
       "<Figure size 640x480 with 1 Axes>"
      ]
     },
     "metadata": {},
     "output_type": "display_data"
    }
   ],
   "source": [
    "# Signature view\n",
    "plt.imshow(plt.imread(sign_path))"
   ]
  },
  {
   "cell_type": "code",
   "execution_count": 17,
   "id": "b414d7bc",
   "metadata": {
    "execution": {
     "iopub.execute_input": "2023-02-27T05:08:40.515306Z",
     "iopub.status.busy": "2023-02-27T05:08:40.514654Z",
     "iopub.status.idle": "2023-02-27T05:08:40.896316Z",
     "shell.execute_reply": "2023-02-27T05:08:40.895416Z"
    },
    "papermill": {
     "duration": 0.427909,
     "end_time": "2023-02-27T05:08:40.898852",
     "exception": false,
     "start_time": "2023-02-27T05:08:40.470943",
     "status": "completed"
    },
    "tags": []
   },
   "outputs": [
    {
     "data": {
      "text/plain": [
       "<matplotlib.image.AxesImage at 0x7f1ff8455190>"
      ]
     },
     "execution_count": 17,
     "metadata": {},
     "output_type": "execute_result"
    },
    {
     "data": {
      "image/png": "[encoded data removed]",
      "text/plain": [
       "<Figure size 640x480 with 1 Axes>"
      ]
     },
     "metadata": {},
     "output_type": "display_data"
    }
   ],
   "source": [
    "# processed image without Signature\n",
    "plt.imshow(plt.imread(img_path))"
   ]
  },
  {
   "cell_type": "code",
   "execution_count": 18,
   "id": "57bb7d0d",
   "metadata": {
    "_cell_guid": "4c75551b-7553-44ef-b9b6-98c7149dad36",
    "_uuid": "84b40591-1353-4e28-bd35-805caf282a2a",
    "execution": {
     "iopub.execute_input": "2023-02-27T05:08:40.987674Z",
     "iopub.status.busy": "2023-02-27T05:08:40.986952Z",
     "iopub.status.idle": "2023-02-27T05:08:42.502690Z",
     "shell.execute_reply": "2023-02-27T05:08:42.501493Z"
    },
    "papermill": {
     "duration": 1.563659,
     "end_time": "2023-02-27T05:08:42.505607",
     "exception": false,
     "start_time": "2023-02-27T05:08:40.941948",
     "status": "completed"
    },
    "tags": []
   },
   "outputs": [
    {
     "data": {
      "image/png": "[encoded data removed]",
      "text/plain": [
       "<PIL.PngImagePlugin.PngImageFile image mode=RGBA size=750x1061>"
      ]
     },
     "execution_count": 18,
     "metadata": {},
     "output_type": "execute_result"
    }
   ],
   "source": [
    "# TExt prediction fromt he given image\n",
    "img_pil,gray_pil = img_to_text(img_path)\n",
    "img_pil"
   ]
  },
  {
   "cell_type": "code",
   "execution_count": 19,
   "id": "87051126",
   "metadata": {
    "_cell_guid": "fe721d7c-05d2-42fa-9d16-2af8a30af0fb",
    "_uuid": "d2b7f03b-5b7a-419a-b933-859f93e460ca",
    "execution": {
     "iopub.execute_input": "2023-02-27T05:08:42.599181Z",
     "iopub.status.busy": "2023-02-27T05:08:42.598442Z",
     "iopub.status.idle": "2023-02-27T05:08:47.609573Z",
     "shell.execute_reply": "2023-02-27T05:08:47.608384Z"
    },
    "papermill": {
     "duration": 5.060798,
     "end_time": "2023-02-27T05:08:47.612341",
     "exception": false,
     "start_time": "2023-02-27T05:08:42.551543",
     "status": "completed"
    },
    "tags": []
   },
   "outputs": [
    {
     "data": {
      "image/png": "[encoded data removed]",
      "text/plain": [
       "<PIL.Image.Image image mode=L size=750x1061>"
      ]
     },
     "execution_count": 19,
     "metadata": {},
     "output_type": "execute_result"
    }
   ],
   "source": [
    "# Extracted text from a string\n",
    "detected_text_on_image(gray_pil)"
   ]
  },
  {
   "cell_type": "code",
   "execution_count": 20,
   "id": "ff61af4a",
   "metadata": {
    "execution": {
     "iopub.execute_input": "2023-02-27T05:08:47.707275Z",
     "iopub.status.busy": "2023-02-27T05:08:47.706119Z",
     "iopub.status.idle": "2023-02-27T05:08:51.533456Z",
     "shell.execute_reply": "2023-02-27T05:08:51.532441Z"
    },
    "papermill": {
     "duration": 3.877648,
     "end_time": "2023-02-27T05:08:51.536207",
     "exception": false,
     "start_time": "2023-02-27T05:08:47.658559",
     "status": "completed"
    },
    "tags": []
   },
   "outputs": [
    {
     "name": "stdout",
     "output_type": "stream",
     "text": [
      "(49, 67, 155, 29)\n",
      "Saffron Design\n",
      "=================================\n",
      "(607, 68, 94, 24)\n",
      "INVOICE\n",
      "=================================\n",
      "(49, 110, 106, 21)\n",
      "77 Namrata Bldg\n",
      "=================================\n",
      "(49, 129, 122, 18)\n",
      "Delhi,Delhi 400077\n",
      "=================================\n",
      "(49, 239, 51, 18)\n",
      "Bill To\n",
      "=================================\n",
      "(276, 238, 59, 22)\n",
      "Ship To\n",
      "=================================\n",
      "(532, 239, 67, 18)\n",
      "lnvoice#\n",
      "=================================\n",
      "(653, 239, 48, 18)\n",
      "IN-001\n",
      "=================================\n",
      "(49, 261, 111, 18)\n",
      "Kavindra Mannan\n",
      "=================================\n",
      "(276, 261, 111, 18)\n",
      "Kavindra Mannan\n",
      "=================================\n",
      "(512, 265, 86, 18)\n",
      "Invoice Date\n",
      "=================================\n",
      "(628, 266, 74, 17)\n",
      "29/01/2019\n",
      "=================================\n",
      "(48, 277, 115, 23)\n",
      "27,Dlf City,Gupta\n",
      "=================================\n",
      "(276, 279, 123, 18)\n",
      "264,Abdul Rehman\n",
      "=================================\n",
      "(49, 296, 115, 21)\n",
      "Delhi,Delhi 40003\n",
      "=================================\n",
      "(276, 297, 132, 18)\n",
      "Mumbai,Bihar 40009\n",
      "=================================\n",
      "(554, 290, 44, 18)\n",
      "P.O.#\n",
      "=================================\n",
      "(631, 291, 71, 17)\n",
      "2430/2019\n",
      "=================================\n",
      "(532, 316, 66, 18)\n",
      "Due Date\n",
      "=================================\n",
      "(627, 317, 75, 17)\n",
      "26/04/2019\n",
      "=================================\n",
      "(64, 385, 38, 17)\n",
      "QTY\n",
      "=================================\n",
      "(219, 385, 97, 18)\n",
      "DESCRIPTION\n",
      "=================================\n",
      "(435, 385, 83, 17)\n",
      "UNIT PRICE\n",
      "=================================\n",
      "(579, 385, 67, 18)\n",
      "AMOUNT\n",
      "=================================\n",
      "(73, 418, 19, 17)\n",
      "1\n",
      "=================================\n",
      "(115, 417, 167, 22)\n",
      "Frontend design restructure\n",
      "=================================\n",
      "(467, 418, 61, 18)\n",
      "9,999.00\n",
      "=================================\n",
      "(630, 418, 62, 18)\n",
      "9,999.00\n",
      "=================================\n",
      "(73, 451, 20, 18)\n",
      "2\n",
      "=================================\n",
      "(115, 450, 133, 23)\n",
      "Custom icon package\n",
      "=================================\n",
      "(478, 451, 50, 18)\n",
      "975.00\n",
      "=================================\n",
      "(631, 451, 61, 18)\n",
      "1,950.00\n",
      "=================================\n",
      "(73, 485, 19, 17)\n",
      "3\n",
      "=================================\n",
      "(115, 484, 119, 21)\n",
      "Gandhi mouse pad\n",
      "=================================\n",
      "(484, 485, 44, 17)\n",
      "99.00\n",
      "=================================\n",
      "(641, 485, 51, 17)\n",
      "297.00\n",
      "=================================\n",
      "(470, 518, 58, 17)\n",
      "Subtotal\n",
      "=================================\n",
      "(624, 518, 68, 18)\n",
      "12,246.00\n",
      "=================================\n",
      "(451, 550, 77, 18)\n",
      "GST 12.0%\n",
      "=================================\n",
      "(631, 549, 61, 21)\n",
      "1,469.52\n",
      "=================================\n",
      "(457, 583, 71, 22)\n",
      "TOTAL\n",
      "=================================\n",
      "(589, 583, 103, 25)\n",
      "※13,715.52\n",
      "=================================\n",
      "(49, 879, 131, 21)\n",
      "Terms&Conditions\n",
      "=================================\n",
      "(49, 901, 182, 22)\n",
      "Payment is due within 15 days\n",
      "=================================\n",
      "(49, 937, 118, 21)\n",
      "State Bank of India\n",
      "=================================\n",
      "(49, 955, 169, 21)\n",
      "Account Number 12345678\n",
      "=================================\n",
      "(49, 973, 188, 23)\n",
      "Routing Number. 09876543210\n",
      "=================================\n"
     ]
    }
   ],
   "source": [
    "# to visuavalise the printed text fromt he Image\n",
    "print_detected_text(gray_pil)"
   ]
  },
  {
   "cell_type": "code",
   "execution_count": 21,
   "id": "7dd4d629",
   "metadata": {
    "_cell_guid": "56ef52e3-3633-41b4-a1be-fcd5a9fb79c4",
    "_uuid": "66222a6d-d577-4654-a875-c11131f3a108",
    "execution": {
     "iopub.execute_input": "2023-02-27T05:08:51.631017Z",
     "iopub.status.busy": "2023-02-27T05:08:51.629953Z",
     "iopub.status.idle": "2023-02-27T05:08:55.415283Z",
     "shell.execute_reply": "2023-02-27T05:08:55.414334Z"
    },
    "papermill": {
     "duration": 3.834363,
     "end_time": "2023-02-27T05:08:55.418054",
     "exception": false,
     "start_time": "2023-02-27T05:08:51.583691",
     "status": "completed"
    },
    "tags": []
   },
   "outputs": [],
   "source": [
    "# extracting df_bill,df_items from the predicted text information\n",
    "df_bill,df_items = Bill_item_info_cluster_extraction(gray_pil)"
   ]
  },
  {
   "cell_type": "code",
   "execution_count": 22,
   "id": "93f34862",
   "metadata": {
    "execution": {
     "iopub.execute_input": "2023-02-27T05:08:55.512921Z",
     "iopub.status.busy": "2023-02-27T05:08:55.511784Z",
     "iopub.status.idle": "2023-02-27T05:08:55.525967Z",
     "shell.execute_reply": "2023-02-27T05:08:55.525006Z"
    },
    "papermill": {
     "duration": 0.063648,
     "end_time": "2023-02-27T05:08:55.528049",
     "exception": false,
     "start_time": "2023-02-27T05:08:55.464401",
     "status": "completed"
    },
    "tags": []
   },
   "outputs": [
    {
     "data": {
      "text/html": [
       "<div>\n",
       "<style scoped>\n",
       "    .dataframe tbody tr th:only-of-type {\n",
       "        vertical-align: middle;\n",
       "    }\n",
       "\n",
       "    .dataframe tbody tr th {\n",
       "        vertical-align: top;\n",
       "    }\n",
       "\n",
       "    .dataframe thead th {\n",
       "        text-align: right;\n",
       "    }\n",
       "</style>\n",
       "<table border=\"1\" class=\"dataframe\">\n",
       "  <thead>\n",
       "    <tr style=\"text-align: right;\">\n",
       "      <th></th>\n",
       "      <th>Text</th>\n",
       "      <th>Y_mean</th>\n",
       "      <th>x</th>\n",
       "      <th>y</th>\n",
       "      <th>w</th>\n",
       "      <th>h</th>\n",
       "      <th>Y_clusters</th>\n",
       "    </tr>\n",
       "  </thead>\n",
       "  <tbody>\n",
       "    <tr>\n",
       "      <th>4</th>\n",
       "      <td>Bill To</td>\n",
       "      <td>248.0</td>\n",
       "      <td>49</td>\n",
       "      <td>239</td>\n",
       "      <td>51</td>\n",
       "      <td>18</td>\n",
       "      <td>2</td>\n",
       "    </tr>\n",
       "    <tr>\n",
       "      <th>5</th>\n",
       "      <td>Ship To</td>\n",
       "      <td>249.0</td>\n",
       "      <td>276</td>\n",
       "      <td>238</td>\n",
       "      <td>59</td>\n",
       "      <td>22</td>\n",
       "      <td>2</td>\n",
       "    </tr>\n",
       "    <tr>\n",
       "      <th>6</th>\n",
       "      <td>lnvoice#</td>\n",
       "      <td>248.0</td>\n",
       "      <td>532</td>\n",
       "      <td>239</td>\n",
       "      <td>67</td>\n",
       "      <td>18</td>\n",
       "      <td>2</td>\n",
       "    </tr>\n",
       "    <tr>\n",
       "      <th>7</th>\n",
       "      <td>IN-001</td>\n",
       "      <td>248.0</td>\n",
       "      <td>653</td>\n",
       "      <td>239</td>\n",
       "      <td>48</td>\n",
       "      <td>18</td>\n",
       "      <td>2</td>\n",
       "    </tr>\n",
       "    <tr>\n",
       "      <th>8</th>\n",
       "      <td>Kavindra Mannan</td>\n",
       "      <td>270.0</td>\n",
       "      <td>49</td>\n",
       "      <td>261</td>\n",
       "      <td>111</td>\n",
       "      <td>18</td>\n",
       "      <td>2</td>\n",
       "    </tr>\n",
       "    <tr>\n",
       "      <th>9</th>\n",
       "      <td>Kavindra Mannan</td>\n",
       "      <td>270.0</td>\n",
       "      <td>276</td>\n",
       "      <td>261</td>\n",
       "      <td>111</td>\n",
       "      <td>18</td>\n",
       "      <td>2</td>\n",
       "    </tr>\n",
       "    <tr>\n",
       "      <th>10</th>\n",
       "      <td>Invoice Date</td>\n",
       "      <td>274.0</td>\n",
       "      <td>512</td>\n",
       "      <td>265</td>\n",
       "      <td>86</td>\n",
       "      <td>18</td>\n",
       "      <td>2</td>\n",
       "    </tr>\n",
       "    <tr>\n",
       "      <th>11</th>\n",
       "      <td>29/01/2019</td>\n",
       "      <td>274.5</td>\n",
       "      <td>628</td>\n",
       "      <td>266</td>\n",
       "      <td>74</td>\n",
       "      <td>17</td>\n",
       "      <td>2</td>\n",
       "    </tr>\n",
       "    <tr>\n",
       "      <th>12</th>\n",
       "      <td>27,Dlf City,Gupta</td>\n",
       "      <td>288.5</td>\n",
       "      <td>48</td>\n",
       "      <td>277</td>\n",
       "      <td>115</td>\n",
       "      <td>23</td>\n",
       "      <td>2</td>\n",
       "    </tr>\n",
       "    <tr>\n",
       "      <th>13</th>\n",
       "      <td>264,Abdul Rehman</td>\n",
       "      <td>288.0</td>\n",
       "      <td>276</td>\n",
       "      <td>279</td>\n",
       "      <td>123</td>\n",
       "      <td>18</td>\n",
       "      <td>2</td>\n",
       "    </tr>\n",
       "    <tr>\n",
       "      <th>14</th>\n",
       "      <td>Delhi,Delhi 40003</td>\n",
       "      <td>306.5</td>\n",
       "      <td>49</td>\n",
       "      <td>296</td>\n",
       "      <td>115</td>\n",
       "      <td>21</td>\n",
       "      <td>2</td>\n",
       "    </tr>\n",
       "    <tr>\n",
       "      <th>15</th>\n",
       "      <td>Mumbai,Bihar 40009</td>\n",
       "      <td>306.0</td>\n",
       "      <td>276</td>\n",
       "      <td>297</td>\n",
       "      <td>132</td>\n",
       "      <td>18</td>\n",
       "      <td>2</td>\n",
       "    </tr>\n",
       "    <tr>\n",
       "      <th>16</th>\n",
       "      <td>P.O.#</td>\n",
       "      <td>299.0</td>\n",
       "      <td>554</td>\n",
       "      <td>290</td>\n",
       "      <td>44</td>\n",
       "      <td>18</td>\n",
       "      <td>2</td>\n",
       "    </tr>\n",
       "    <tr>\n",
       "      <th>17</th>\n",
       "      <td>2430/2019</td>\n",
       "      <td>299.5</td>\n",
       "      <td>631</td>\n",
       "      <td>291</td>\n",
       "      <td>71</td>\n",
       "      <td>17</td>\n",
       "      <td>2</td>\n",
       "    </tr>\n",
       "    <tr>\n",
       "      <th>18</th>\n",
       "      <td>Due Date</td>\n",
       "      <td>325.0</td>\n",
       "      <td>532</td>\n",
       "      <td>316</td>\n",
       "      <td>66</td>\n",
       "      <td>18</td>\n",
       "      <td>2</td>\n",
       "    </tr>\n",
       "    <tr>\n",
       "      <th>19</th>\n",
       "      <td>26/04/2019</td>\n",
       "      <td>325.5</td>\n",
       "      <td>627</td>\n",
       "      <td>317</td>\n",
       "      <td>75</td>\n",
       "      <td>17</td>\n",
       "      <td>2</td>\n",
       "    </tr>\n",
       "  </tbody>\n",
       "</table>\n",
       "</div>"
      ],
      "text/plain": [
       "                  Text  Y_mean    x    y    w   h  Y_clusters\n",
       "4              Bill To   248.0   49  239   51  18           2\n",
       "5              Ship To   249.0  276  238   59  22           2\n",
       "6             lnvoice#   248.0  532  239   67  18           2\n",
       "7               IN-001   248.0  653  239   48  18           2\n",
       "8      Kavindra Mannan   270.0   49  261  111  18           2\n",
       "9      Kavindra Mannan   270.0  276  261  111  18           2\n",
       "10        Invoice Date   274.0  512  265   86  18           2\n",
       "11          29/01/2019   274.5  628  266   74  17           2\n",
       "12   27,Dlf City,Gupta   288.5   48  277  115  23           2\n",
       "13    264,Abdul Rehman   288.0  276  279  123  18           2\n",
       "14   Delhi,Delhi 40003   306.5   49  296  115  21           2\n",
       "15  Mumbai,Bihar 40009   306.0  276  297  132  18           2\n",
       "16               P.O.#   299.0  554  290   44  18           2\n",
       "17           2430/2019   299.5  631  291   71  17           2\n",
       "18            Due Date   325.0  532  316   66  18           2\n",
       "19          26/04/2019   325.5  627  317   75  17           2"
      ]
     },
     "execution_count": 22,
     "metadata": {},
     "output_type": "execute_result"
    }
   ],
   "source": [
    "# bill info extracted from the image invoice\n",
    "df_bill"
   ]
  },
  {
   "cell_type": "code",
   "execution_count": 23,
   "id": "87bea80a",
   "metadata": {
    "execution": {
     "iopub.execute_input": "2023-02-27T05:08:55.622025Z",
     "iopub.status.busy": "2023-02-27T05:08:55.621346Z",
     "iopub.status.idle": "2023-02-27T05:08:55.637394Z",
     "shell.execute_reply": "2023-02-27T05:08:55.636280Z"
    },
    "papermill": {
     "duration": 0.066055,
     "end_time": "2023-02-27T05:08:55.639801",
     "exception": false,
     "start_time": "2023-02-27T05:08:55.573746",
     "status": "completed"
    },
    "tags": []
   },
   "outputs": [
    {
     "data": {
      "text/html": [
       "<div>\n",
       "<style scoped>\n",
       "    .dataframe tbody tr th:only-of-type {\n",
       "        vertical-align: middle;\n",
       "    }\n",
       "\n",
       "    .dataframe tbody tr th {\n",
       "        vertical-align: top;\n",
       "    }\n",
       "\n",
       "    .dataframe thead th {\n",
       "        text-align: right;\n",
       "    }\n",
       "</style>\n",
       "<table border=\"1\" class=\"dataframe\">\n",
       "  <thead>\n",
       "    <tr style=\"text-align: right;\">\n",
       "      <th></th>\n",
       "      <th>Text</th>\n",
       "      <th>Y_mean</th>\n",
       "      <th>x</th>\n",
       "      <th>y</th>\n",
       "      <th>w</th>\n",
       "      <th>h</th>\n",
       "      <th>Y_clusters</th>\n",
       "    </tr>\n",
       "  </thead>\n",
       "  <tbody>\n",
       "    <tr>\n",
       "      <th>20</th>\n",
       "      <td>QTY</td>\n",
       "      <td>393.5</td>\n",
       "      <td>64</td>\n",
       "      <td>385</td>\n",
       "      <td>38</td>\n",
       "      <td>17</td>\n",
       "      <td>0</td>\n",
       "    </tr>\n",
       "    <tr>\n",
       "      <th>21</th>\n",
       "      <td>DESCRIPTION</td>\n",
       "      <td>394.0</td>\n",
       "      <td>219</td>\n",
       "      <td>385</td>\n",
       "      <td>97</td>\n",
       "      <td>18</td>\n",
       "      <td>0</td>\n",
       "    </tr>\n",
       "    <tr>\n",
       "      <th>22</th>\n",
       "      <td>UNIT PRICE</td>\n",
       "      <td>393.5</td>\n",
       "      <td>435</td>\n",
       "      <td>385</td>\n",
       "      <td>83</td>\n",
       "      <td>17</td>\n",
       "      <td>0</td>\n",
       "    </tr>\n",
       "    <tr>\n",
       "      <th>23</th>\n",
       "      <td>AMOUNT</td>\n",
       "      <td>394.0</td>\n",
       "      <td>579</td>\n",
       "      <td>385</td>\n",
       "      <td>67</td>\n",
       "      <td>18</td>\n",
       "      <td>0</td>\n",
       "    </tr>\n",
       "    <tr>\n",
       "      <th>24</th>\n",
       "      <td>1</td>\n",
       "      <td>426.5</td>\n",
       "      <td>73</td>\n",
       "      <td>418</td>\n",
       "      <td>19</td>\n",
       "      <td>17</td>\n",
       "      <td>0</td>\n",
       "    </tr>\n",
       "    <tr>\n",
       "      <th>25</th>\n",
       "      <td>Frontend design restructure</td>\n",
       "      <td>428.0</td>\n",
       "      <td>115</td>\n",
       "      <td>417</td>\n",
       "      <td>167</td>\n",
       "      <td>22</td>\n",
       "      <td>0</td>\n",
       "    </tr>\n",
       "    <tr>\n",
       "      <th>26</th>\n",
       "      <td>9,999.00</td>\n",
       "      <td>427.0</td>\n",
       "      <td>467</td>\n",
       "      <td>418</td>\n",
       "      <td>61</td>\n",
       "      <td>18</td>\n",
       "      <td>0</td>\n",
       "    </tr>\n",
       "    <tr>\n",
       "      <th>27</th>\n",
       "      <td>9,999.00</td>\n",
       "      <td>427.0</td>\n",
       "      <td>630</td>\n",
       "      <td>418</td>\n",
       "      <td>62</td>\n",
       "      <td>18</td>\n",
       "      <td>0</td>\n",
       "    </tr>\n",
       "    <tr>\n",
       "      <th>28</th>\n",
       "      <td>2</td>\n",
       "      <td>460.0</td>\n",
       "      <td>73</td>\n",
       "      <td>451</td>\n",
       "      <td>20</td>\n",
       "      <td>18</td>\n",
       "      <td>0</td>\n",
       "    </tr>\n",
       "    <tr>\n",
       "      <th>29</th>\n",
       "      <td>Custom icon package</td>\n",
       "      <td>461.5</td>\n",
       "      <td>115</td>\n",
       "      <td>450</td>\n",
       "      <td>133</td>\n",
       "      <td>23</td>\n",
       "      <td>0</td>\n",
       "    </tr>\n",
       "    <tr>\n",
       "      <th>30</th>\n",
       "      <td>975.00</td>\n",
       "      <td>460.0</td>\n",
       "      <td>478</td>\n",
       "      <td>451</td>\n",
       "      <td>50</td>\n",
       "      <td>18</td>\n",
       "      <td>0</td>\n",
       "    </tr>\n",
       "    <tr>\n",
       "      <th>31</th>\n",
       "      <td>1,950.00</td>\n",
       "      <td>460.0</td>\n",
       "      <td>631</td>\n",
       "      <td>451</td>\n",
       "      <td>61</td>\n",
       "      <td>18</td>\n",
       "      <td>0</td>\n",
       "    </tr>\n",
       "    <tr>\n",
       "      <th>32</th>\n",
       "      <td>3</td>\n",
       "      <td>493.5</td>\n",
       "      <td>73</td>\n",
       "      <td>485</td>\n",
       "      <td>19</td>\n",
       "      <td>17</td>\n",
       "      <td>0</td>\n",
       "    </tr>\n",
       "    <tr>\n",
       "      <th>33</th>\n",
       "      <td>Gandhi mouse pad</td>\n",
       "      <td>494.5</td>\n",
       "      <td>115</td>\n",
       "      <td>484</td>\n",
       "      <td>119</td>\n",
       "      <td>21</td>\n",
       "      <td>0</td>\n",
       "    </tr>\n",
       "    <tr>\n",
       "      <th>34</th>\n",
       "      <td>99.00</td>\n",
       "      <td>493.5</td>\n",
       "      <td>484</td>\n",
       "      <td>485</td>\n",
       "      <td>44</td>\n",
       "      <td>17</td>\n",
       "      <td>0</td>\n",
       "    </tr>\n",
       "    <tr>\n",
       "      <th>35</th>\n",
       "      <td>297.00</td>\n",
       "      <td>493.5</td>\n",
       "      <td>641</td>\n",
       "      <td>485</td>\n",
       "      <td>51</td>\n",
       "      <td>17</td>\n",
       "      <td>0</td>\n",
       "    </tr>\n",
       "    <tr>\n",
       "      <th>36</th>\n",
       "      <td>Subtotal</td>\n",
       "      <td>526.5</td>\n",
       "      <td>470</td>\n",
       "      <td>518</td>\n",
       "      <td>58</td>\n",
       "      <td>17</td>\n",
       "      <td>0</td>\n",
       "    </tr>\n",
       "    <tr>\n",
       "      <th>37</th>\n",
       "      <td>12,246.00</td>\n",
       "      <td>527.0</td>\n",
       "      <td>624</td>\n",
       "      <td>518</td>\n",
       "      <td>68</td>\n",
       "      <td>18</td>\n",
       "      <td>0</td>\n",
       "    </tr>\n",
       "    <tr>\n",
       "      <th>38</th>\n",
       "      <td>GST 12.0%</td>\n",
       "      <td>559.0</td>\n",
       "      <td>451</td>\n",
       "      <td>550</td>\n",
       "      <td>77</td>\n",
       "      <td>18</td>\n",
       "      <td>0</td>\n",
       "    </tr>\n",
       "    <tr>\n",
       "      <th>39</th>\n",
       "      <td>1,469.52</td>\n",
       "      <td>559.5</td>\n",
       "      <td>631</td>\n",
       "      <td>549</td>\n",
       "      <td>61</td>\n",
       "      <td>21</td>\n",
       "      <td>0</td>\n",
       "    </tr>\n",
       "    <tr>\n",
       "      <th>40</th>\n",
       "      <td>TOTAL</td>\n",
       "      <td>594.0</td>\n",
       "      <td>457</td>\n",
       "      <td>583</td>\n",
       "      <td>71</td>\n",
       "      <td>22</td>\n",
       "      <td>0</td>\n",
       "    </tr>\n",
       "    <tr>\n",
       "      <th>41</th>\n",
       "      <td>※13,715.52</td>\n",
       "      <td>595.5</td>\n",
       "      <td>589</td>\n",
       "      <td>583</td>\n",
       "      <td>103</td>\n",
       "      <td>25</td>\n",
       "      <td>0</td>\n",
       "    </tr>\n",
       "  </tbody>\n",
       "</table>\n",
       "</div>"
      ],
      "text/plain": [
       "                           Text  Y_mean    x    y    w   h  Y_clusters\n",
       "20                          QTY   393.5   64  385   38  17           0\n",
       "21                  DESCRIPTION   394.0  219  385   97  18           0\n",
       "22                   UNIT PRICE   393.5  435  385   83  17           0\n",
       "23                       AMOUNT   394.0  579  385   67  18           0\n",
       "24                            1   426.5   73  418   19  17           0\n",
       "25  Frontend design restructure   428.0  115  417  167  22           0\n",
       "26                     9,999.00   427.0  467  418   61  18           0\n",
       "27                     9,999.00   427.0  630  418   62  18           0\n",
       "28                            2   460.0   73  451   20  18           0\n",
       "29          Custom icon package   461.5  115  450  133  23           0\n",
       "30                       975.00   460.0  478  451   50  18           0\n",
       "31                     1,950.00   460.0  631  451   61  18           0\n",
       "32                            3   493.5   73  485   19  17           0\n",
       "33             Gandhi mouse pad   494.5  115  484  119  21           0\n",
       "34                        99.00   493.5  484  485   44  17           0\n",
       "35                       297.00   493.5  641  485   51  17           0\n",
       "36                     Subtotal   526.5  470  518   58  17           0\n",
       "37                    12,246.00   527.0  624  518   68  18           0\n",
       "38                    GST 12.0%   559.0  451  550   77  18           0\n",
       "39                     1,469.52   559.5  631  549   61  21           0\n",
       "40                        TOTAL   594.0  457  583   71  22           0\n",
       "41                   ※13,715.52   595.5  589  583  103  25           0"
      ]
     },
     "execution_count": 23,
     "metadata": {},
     "output_type": "execute_result"
    }
   ],
   "source": [
    "# item price info\n",
    "df_items"
   ]
  },
  {
   "cell_type": "markdown",
   "id": "80bb28b2",
   "metadata": {
    "papermill": {
     "duration": 0.045541,
     "end_time": "2023-02-27T05:08:55.731352",
     "exception": false,
     "start_time": "2023-02-27T05:08:55.685811",
     "status": "completed"
    },
    "tags": []
   },
   "source": [
    "# Bill Info Clustering \n",
    "1. Group information for the entities Bill To, Ship To, Invoice, Invoice date, P. O. and Due date"
   ]
  },
  {
   "cell_type": "code",
   "execution_count": 24,
   "id": "e19bbf64",
   "metadata": {
    "execution": {
     "iopub.execute_input": "2023-02-27T05:08:55.824631Z",
     "iopub.status.busy": "2023-02-27T05:08:55.824174Z",
     "iopub.status.idle": "2023-02-27T05:08:55.836896Z",
     "shell.execute_reply": "2023-02-27T05:08:55.835915Z"
    },
    "papermill": {
     "duration": 0.062296,
     "end_time": "2023-02-27T05:08:55.839068",
     "exception": false,
     "start_time": "2023-02-27T05:08:55.776772",
     "status": "completed"
    },
    "tags": []
   },
   "outputs": [
    {
     "data": {
      "text/plain": [
       "{'Ship To': array(['Kavindra Mannan', '264,Abdul Rehman', 'Mumbai,Bihar 40009'],\n",
       "       dtype=object),\n",
       " 'Bill To': array(['Kavindra Mannan', '27,Dlf City,Gupta', 'Delhi,Delhi 40003'],\n",
       "       dtype=object),\n",
       " 'lnvoice#': 'IN-001',\n",
       " 'Invoice Date': '29/01/2019',\n",
       " 'P.O.#': '2430/2019',\n",
       " 'Due Date': '26/04/2019'}"
      ]
     },
     "execution_count": 24,
     "metadata": {},
     "output_type": "execute_result"
    }
   ],
   "source": [
    "# Billing info Extraction Process\n",
    "Bill_info_dct = Billing_info_extraction(df_bill)\n",
    "Bill_info_dct"
   ]
  },
  {
   "cell_type": "markdown",
   "id": "a0bc1934",
   "metadata": {
    "papermill": {
     "duration": 0.04526,
     "end_time": "2023-02-27T05:08:55.930542",
     "exception": false,
     "start_time": "2023-02-27T05:08:55.885282",
     "status": "completed"
    },
    "tags": []
   },
   "source": [
    "# Items and Prices - Iternary info extractions"
   ]
  },
  {
   "cell_type": "code",
   "execution_count": 25,
   "id": "a3ac0325",
   "metadata": {
    "execution": {
     "iopub.execute_input": "2023-02-27T05:08:56.025007Z",
     "iopub.status.busy": "2023-02-27T05:08:56.024269Z",
     "iopub.status.idle": "2023-02-27T05:08:56.044239Z",
     "shell.execute_reply": "2023-02-27T05:08:56.043441Z"
    },
    "papermill": {
     "duration": 0.069785,
     "end_time": "2023-02-27T05:08:56.046612",
     "exception": false,
     "start_time": "2023-02-27T05:08:55.976827",
     "status": "completed"
    },
    "tags": []
   },
   "outputs": [
    {
     "data": {
      "text/html": [
       "<div>\n",
       "<style scoped>\n",
       "    .dataframe tbody tr th:only-of-type {\n",
       "        vertical-align: middle;\n",
       "    }\n",
       "\n",
       "    .dataframe tbody tr th {\n",
       "        vertical-align: top;\n",
       "    }\n",
       "\n",
       "    .dataframe thead th {\n",
       "        text-align: right;\n",
       "    }\n",
       "</style>\n",
       "<table border=\"1\" class=\"dataframe\">\n",
       "  <thead>\n",
       "    <tr style=\"text-align: right;\">\n",
       "      <th></th>\n",
       "      <th>QTY</th>\n",
       "      <th>DESCRIPTION</th>\n",
       "      <th>UNIT PRICE</th>\n",
       "      <th>AMOUNT</th>\n",
       "    </tr>\n",
       "  </thead>\n",
       "  <tbody>\n",
       "    <tr>\n",
       "      <th>1</th>\n",
       "      <td>1</td>\n",
       "      <td>Frontend design restructure</td>\n",
       "      <td>9,999.00</td>\n",
       "      <td>9,999.00</td>\n",
       "    </tr>\n",
       "    <tr>\n",
       "      <th>2</th>\n",
       "      <td>2</td>\n",
       "      <td>Custom icon package</td>\n",
       "      <td>975.00</td>\n",
       "      <td>1,950.00</td>\n",
       "    </tr>\n",
       "    <tr>\n",
       "      <th>3</th>\n",
       "      <td>3</td>\n",
       "      <td>Gandhi mouse pad</td>\n",
       "      <td>99.00</td>\n",
       "      <td>297.00</td>\n",
       "    </tr>\n",
       "    <tr>\n",
       "      <th>4</th>\n",
       "      <td>___</td>\n",
       "      <td>___</td>\n",
       "      <td>Subtotal</td>\n",
       "      <td>12,246.00</td>\n",
       "    </tr>\n",
       "    <tr>\n",
       "      <th>5</th>\n",
       "      <td>___</td>\n",
       "      <td>___</td>\n",
       "      <td>GST 12.0%</td>\n",
       "      <td>1,469.52</td>\n",
       "    </tr>\n",
       "    <tr>\n",
       "      <th>6</th>\n",
       "      <td>___</td>\n",
       "      <td>___</td>\n",
       "      <td>TOTAL</td>\n",
       "      <td>※13,715.52</td>\n",
       "    </tr>\n",
       "  </tbody>\n",
       "</table>\n",
       "</div>"
      ],
      "text/plain": [
       "0  QTY                  DESCRIPTION UNIT PRICE      AMOUNT\n",
       "1    1  Frontend design restructure   9,999.00    9,999.00\n",
       "2    2          Custom icon package     975.00    1,950.00\n",
       "3    3             Gandhi mouse pad      99.00      297.00\n",
       "4  ___                          ___   Subtotal   12,246.00\n",
       "5  ___                          ___  GST 12.0%    1,469.52\n",
       "6  ___                          ___      TOTAL  ※13,715.52"
      ]
     },
     "execution_count": 25,
     "metadata": {},
     "output_type": "execute_result"
    }
   ],
   "source": [
    "tbl = iternary_pricing_table(df_items)\n",
    "tbl"
   ]
  },
  {
   "cell_type": "markdown",
   "id": "dbf4481c",
   "metadata": {
    "papermill": {
     "duration": 0.045986,
     "end_time": "2023-02-27T05:08:56.140881",
     "exception": false,
     "start_time": "2023-02-27T05:08:56.094895",
     "status": "completed"
    },
    "tags": []
   },
   "source": [
    "# Export the table to a csv file "
   ]
  },
  {
   "cell_type": "code",
   "execution_count": 26,
   "id": "ff87c4f4",
   "metadata": {
    "execution": {
     "iopub.execute_input": "2023-02-27T05:08:56.236969Z",
     "iopub.status.busy": "2023-02-27T05:08:56.236249Z",
     "iopub.status.idle": "2023-02-27T05:08:56.243973Z",
     "shell.execute_reply": "2023-02-27T05:08:56.242871Z"
    },
    "papermill": {
     "duration": 0.057441,
     "end_time": "2023-02-27T05:08:56.246455",
     "exception": false,
     "start_time": "2023-02-27T05:08:56.189014",
     "status": "completed"
    },
    "tags": []
   },
   "outputs": [],
   "source": [
    "tbl.to_csv('/kaggle/working/items_price.csv', index=None)\n",
    "#tbl.to_excel('/kaggle/working/items_price.xlsx')"
   ]
  },
  {
   "cell_type": "code",
   "execution_count": 27,
   "id": "4c6697dd",
   "metadata": {
    "execution": {
     "iopub.execute_input": "2023-02-27T05:08:56.341549Z",
     "iopub.status.busy": "2023-02-27T05:08:56.341094Z",
     "iopub.status.idle": "2023-02-27T05:08:56.356011Z",
     "shell.execute_reply": "2023-02-27T05:08:56.355009Z"
    },
    "papermill": {
     "duration": 0.064847,
     "end_time": "2023-02-27T05:08:56.358072",
     "exception": false,
     "start_time": "2023-02-27T05:08:56.293225",
     "status": "completed"
    },
    "tags": []
   },
   "outputs": [
    {
     "data": {
      "text/html": [
       "<div>\n",
       "<style scoped>\n",
       "    .dataframe tbody tr th:only-of-type {\n",
       "        vertical-align: middle;\n",
       "    }\n",
       "\n",
       "    .dataframe tbody tr th {\n",
       "        vertical-align: top;\n",
       "    }\n",
       "\n",
       "    .dataframe thead th {\n",
       "        text-align: right;\n",
       "    }\n",
       "</style>\n",
       "<table border=\"1\" class=\"dataframe\">\n",
       "  <thead>\n",
       "    <tr style=\"text-align: right;\">\n",
       "      <th></th>\n",
       "      <th>QTY</th>\n",
       "      <th>DESCRIPTION</th>\n",
       "      <th>UNIT PRICE</th>\n",
       "      <th>AMOUNT</th>\n",
       "    </tr>\n",
       "  </thead>\n",
       "  <tbody>\n",
       "    <tr>\n",
       "      <th>0</th>\n",
       "      <td>1</td>\n",
       "      <td>Frontend design restructure</td>\n",
       "      <td>9,999.00</td>\n",
       "      <td>9,999.00</td>\n",
       "    </tr>\n",
       "    <tr>\n",
       "      <th>1</th>\n",
       "      <td>2</td>\n",
       "      <td>Custom icon package</td>\n",
       "      <td>975.00</td>\n",
       "      <td>1,950.00</td>\n",
       "    </tr>\n",
       "    <tr>\n",
       "      <th>2</th>\n",
       "      <td>3</td>\n",
       "      <td>Gandhi mouse pad</td>\n",
       "      <td>99.00</td>\n",
       "      <td>297.00</td>\n",
       "    </tr>\n",
       "    <tr>\n",
       "      <th>3</th>\n",
       "      <td>___</td>\n",
       "      <td>___</td>\n",
       "      <td>Subtotal</td>\n",
       "      <td>12,246.00</td>\n",
       "    </tr>\n",
       "    <tr>\n",
       "      <th>4</th>\n",
       "      <td>___</td>\n",
       "      <td>___</td>\n",
       "      <td>GST 12.0%</td>\n",
       "      <td>1,469.52</td>\n",
       "    </tr>\n",
       "    <tr>\n",
       "      <th>5</th>\n",
       "      <td>___</td>\n",
       "      <td>___</td>\n",
       "      <td>TOTAL</td>\n",
       "      <td>※13,715.52</td>\n",
       "    </tr>\n",
       "  </tbody>\n",
       "</table>\n",
       "</div>"
      ],
      "text/plain": [
       "   QTY                  DESCRIPTION UNIT PRICE      AMOUNT\n",
       "0    1  Frontend design restructure   9,999.00    9,999.00\n",
       "1    2          Custom icon package     975.00    1,950.00\n",
       "2    3             Gandhi mouse pad      99.00      297.00\n",
       "3  ___                          ___   Subtotal   12,246.00\n",
       "4  ___                          ___  GST 12.0%    1,469.52\n",
       "5  ___                          ___      TOTAL  ※13,715.52"
      ]
     },
     "execution_count": 27,
     "metadata": {},
     "output_type": "execute_result"
    }
   ],
   "source": [
    "table = pd.read_csv('/kaggle/working/items_price.csv')\n",
    "table"
   ]
  },
  {
   "cell_type": "code",
   "execution_count": null,
   "id": "fe0cbbc2",
   "metadata": {
    "papermill": {
     "duration": 0.045674,
     "end_time": "2023-02-27T05:08:56.450083",
     "exception": false,
     "start_time": "2023-02-27T05:08:56.404409",
     "status": "completed"
    },
    "tags": []
   },
   "outputs": [],
   "source": []
  }
 ],
 "metadata": {
  "kernelspec": {
   "display_name": "Python 3",
   "language": "python",
   "name": "python3"
  },
  "language_info": {
   "codemirror_mode": {
    "name": "ipython",
    "version": 3
   },
   "file_extension": ".py",
   "mimetype": "text/x-python",
   "name": "python",
   "nbconvert_exporter": "python",
   "pygments_lexer": "ipython3",
   "version": "3.7.12"
  },
  "papermill": {
   "default_parameters": {},
   "duration": 120.999056,
   "end_time": "2023-02-27T05:08:57.420607",
   "environment_variables": {},
   "exception": null,
   "input_path": "__notebook__.ipynb",
   "output_path": "__notebook__.ipynb",
   "parameters": {},
   "start_time": "2023-02-27T05:06:56.421551",
   "version": "2.3.4"
  }
 },
 "nbformat": 4,
 "nbformat_minor": 5
}
