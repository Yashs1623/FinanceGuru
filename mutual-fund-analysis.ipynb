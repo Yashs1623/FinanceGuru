{
 "cells": [
  {
   "cell_type": "code",
   "execution_count": 2,
   "id": "b01efc86",
   "metadata": {
    "execution": {
     "iopub.execute_input": "2023-05-02T16:30:48.184045Z",
     "iopub.status.busy": "2023-05-02T16:30:48.183285Z",
     "iopub.status.idle": "2023-05-02T16:30:49.547765Z",
     "shell.execute_reply": "2023-05-02T16:30:49.546419Z"
    },
    "papermill": {
     "duration": 1.376773,
     "end_time": "2023-05-02T16:30:49.550578",
     "exception": false,
     "start_time": "2023-05-02T16:30:48.173805",
     "status": "completed"
    },
    "tags": []
   },
   "outputs": [],
   "source": [
    "# Importing Libraries\n",
    "\n",
    "import numpy as np\n",
    "import pandas as pd\n",
    "from datetime import datetime\n",
    "import seaborn as sns\n",
    "import matplotlib.pyplot as plt\n",
    "\n",
    "# for interactive plots\n",
    "import ipywidgets\n",
    "from ipywidgets import interact\n",
    "from ipywidgets import interact_manual"
   ]
  },
  {
   "cell_type": "code",
   "execution_count": 3,
   "id": "09bac38c",
   "metadata": {
    "execution": {
     "iopub.execute_input": "2023-05-02T16:30:49.569040Z",
     "iopub.status.busy": "2023-05-02T16:30:49.568637Z",
     "iopub.status.idle": "2023-05-02T16:30:49.602334Z",
     "shell.execute_reply": "2023-05-02T16:30:49.601478Z"
    },
    "papermill": {
     "duration": 0.045656,
     "end_time": "2023-05-02T16:30:49.604680",
     "exception": false,
     "start_time": "2023-05-02T16:30:49.559024",
     "status": "completed"
    },
    "tags": []
   },
   "outputs": [],
   "source": [
    "## Read file\n",
    "df = pd.read_csv('./mutual-funds-india-detailed/comprehensive_mutual_funds_data.csv')"
   ]
  },
  {
   "cell_type": "code",
   "execution_count": 4,
   "id": "5eae2f99",
   "metadata": {
    "execution": {
     "iopub.execute_input": "2023-05-02T16:30:49.622806Z",
     "iopub.status.busy": "2023-05-02T16:30:49.622393Z",
     "iopub.status.idle": "2023-05-02T16:30:49.661784Z",
     "shell.execute_reply": "2023-05-02T16:30:49.660580Z"
    },
    "papermill": {
     "duration": 0.05106,
     "end_time": "2023-05-02T16:30:49.664022",
     "exception": false,
     "start_time": "2023-05-02T16:30:49.612962",
     "status": "completed"
    },
    "tags": []
   },
   "outputs": [
    {
     "data": {
      "text/html": [
       "<div>\n",
       "<style scoped>\n",
       "    .dataframe tbody tr th:only-of-type {\n",
       "        vertical-align: middle;\n",
       "    }\n",
       "\n",
       "    .dataframe tbody tr th {\n",
       "        vertical-align: top;\n",
       "    }\n",
       "\n",
       "    .dataframe thead th {\n",
       "        text-align: right;\n",
       "    }\n",
       "</style>\n",
       "<table border=\"1\" class=\"dataframe\">\n",
       "  <thead>\n",
       "    <tr style=\"text-align: right;\">\n",
       "      <th></th>\n",
       "      <th>scheme_name</th>\n",
       "      <th>min_sip</th>\n",
       "      <th>min_lumpsum</th>\n",
       "      <th>expense_ratio</th>\n",
       "      <th>fund_size_cr</th>\n",
       "      <th>fund_age_yr</th>\n",
       "      <th>fund_manager</th>\n",
       "      <th>sortino</th>\n",
       "      <th>alpha</th>\n",
       "      <th>sd</th>\n",
       "      <th>beta</th>\n",
       "      <th>sharpe</th>\n",
       "      <th>risk_level</th>\n",
       "      <th>amc_name</th>\n",
       "      <th>rating</th>\n",
       "      <th>category</th>\n",
       "      <th>sub_category</th>\n",
       "      <th>returns_1yr</th>\n",
       "      <th>returns_3yr</th>\n",
       "      <th>returns_5yr</th>\n",
       "    </tr>\n",
       "  </thead>\n",
       "  <tbody>\n",
       "    <tr>\n",
       "      <th>0</th>\n",
       "      <td>Aditya Birla SL Active Debt Multi-Mgr FoF-Dir ...</td>\n",
       "      <td>100</td>\n",
       "      <td>100</td>\n",
       "      <td>0.27</td>\n",
       "      <td>10.0</td>\n",
       "      <td>10</td>\n",
       "      <td>Kaustubh Gupta</td>\n",
       "      <td>0.32</td>\n",
       "      <td>2.24</td>\n",
       "      <td>9.39</td>\n",
       "      <td>0.01</td>\n",
       "      <td>0.24</td>\n",
       "      <td>3</td>\n",
       "      <td>Aditya Birla Sun Life Mutual Fund</td>\n",
       "      <td>3</td>\n",
       "      <td>Other</td>\n",
       "      <td>FoFs Domestic</td>\n",
       "      <td>4.0</td>\n",
       "      <td>6.5</td>\n",
       "      <td>6.9</td>\n",
       "    </tr>\n",
       "    <tr>\n",
       "      <th>1</th>\n",
       "      <td>Aditya Birla SL Arbitrage Fund</td>\n",
       "      <td>1000</td>\n",
       "      <td>1000</td>\n",
       "      <td>0.36</td>\n",
       "      <td>4288.0</td>\n",
       "      <td>10</td>\n",
       "      <td>Lovelish Solanki</td>\n",
       "      <td>1.33</td>\n",
       "      <td>1.53</td>\n",
       "      <td>0.72</td>\n",
       "      <td>0.56</td>\n",
       "      <td>1.1</td>\n",
       "      <td>1</td>\n",
       "      <td>Aditya Birla Sun Life Mutual Fund</td>\n",
       "      <td>3</td>\n",
       "      <td>Hybrid</td>\n",
       "      <td>Arbitrage Mutual Funds</td>\n",
       "      <td>5.6</td>\n",
       "      <td>4.8</td>\n",
       "      <td>5.5</td>\n",
       "    </tr>\n",
       "    <tr>\n",
       "      <th>2</th>\n",
       "      <td>Aditya Birla SL Asset Allocator FoF-Dir Growth</td>\n",
       "      <td>1000</td>\n",
       "      <td>1000</td>\n",
       "      <td>0.53</td>\n",
       "      <td>157.0</td>\n",
       "      <td>10</td>\n",
       "      <td>Vinod Narayan Bhat</td>\n",
       "      <td>3.44</td>\n",
       "      <td>2.67</td>\n",
       "      <td>10.58</td>\n",
       "      <td>0.67</td>\n",
       "      <td>1.42</td>\n",
       "      <td>5</td>\n",
       "      <td>Aditya Birla Sun Life Mutual Fund</td>\n",
       "      <td>3</td>\n",
       "      <td>Other</td>\n",
       "      <td>FoFs Domestic</td>\n",
       "      <td>2.0</td>\n",
       "      <td>18.9</td>\n",
       "      <td>9.7</td>\n",
       "    </tr>\n",
       "    <tr>\n",
       "      <th>3</th>\n",
       "      <td>Aditya Birla SL Bal Bhavishya Yojna – Dir Growth</td>\n",
       "      <td>500</td>\n",
       "      <td>1000</td>\n",
       "      <td>0.76</td>\n",
       "      <td>637.0</td>\n",
       "      <td>4</td>\n",
       "      <td>Atul Penkar</td>\n",
       "      <td>2.18</td>\n",
       "      <td>-6.37</td>\n",
       "      <td>14.99</td>\n",
       "      <td>0.85</td>\n",
       "      <td>0.9</td>\n",
       "      <td>6</td>\n",
       "      <td>Aditya Birla Sun Life Mutual Fund</td>\n",
       "      <td>2</td>\n",
       "      <td>Solution Oriented</td>\n",
       "      <td>Childrens Funds</td>\n",
       "      <td>-0.7</td>\n",
       "      <td>17.1</td>\n",
       "      <td>NaN</td>\n",
       "    </tr>\n",
       "    <tr>\n",
       "      <th>4</th>\n",
       "      <td>Aditya Birla SL Balanced Advantage Fund</td>\n",
       "      <td>100</td>\n",
       "      <td>100</td>\n",
       "      <td>0.61</td>\n",
       "      <td>6386.0</td>\n",
       "      <td>10</td>\n",
       "      <td>Mohit Sharma</td>\n",
       "      <td>3.69</td>\n",
       "      <td>1.99</td>\n",
       "      <td>10.38</td>\n",
       "      <td>0.68</td>\n",
       "      <td>1.39</td>\n",
       "      <td>6</td>\n",
       "      <td>Aditya Birla Sun Life Mutual Fund</td>\n",
       "      <td>4</td>\n",
       "      <td>Hybrid</td>\n",
       "      <td>Dynamic Asset Allocation or Balanced Advantage</td>\n",
       "      <td>4.5</td>\n",
       "      <td>18.6</td>\n",
       "      <td>9.7</td>\n",
       "    </tr>\n",
       "  </tbody>\n",
       "</table>\n",
       "</div>"
      ],
      "text/plain": [
       "                                         scheme_name  min_sip  min_lumpsum  \\\n",
       "0  Aditya Birla SL Active Debt Multi-Mgr FoF-Dir ...      100          100   \n",
       "1                     Aditya Birla SL Arbitrage Fund     1000         1000   \n",
       "2     Aditya Birla SL Asset Allocator FoF-Dir Growth     1000         1000   \n",
       "3   Aditya Birla SL Bal Bhavishya Yojna – Dir Growth      500         1000   \n",
       "4            Aditya Birla SL Balanced Advantage Fund      100          100   \n",
       "\n",
       "   expense_ratio  fund_size_cr  fund_age_yr        fund_manager sortino  \\\n",
       "0           0.27          10.0           10      Kaustubh Gupta    0.32   \n",
       "1           0.36        4288.0           10    Lovelish Solanki    1.33   \n",
       "2           0.53         157.0           10  Vinod Narayan Bhat    3.44   \n",
       "3           0.76         637.0            4         Atul Penkar    2.18   \n",
       "4           0.61        6386.0           10        Mohit Sharma    3.69   \n",
       "\n",
       "   alpha     sd  beta sharpe  risk_level                           amc_name  \\\n",
       "0   2.24   9.39  0.01   0.24           3  Aditya Birla Sun Life Mutual Fund   \n",
       "1   1.53   0.72  0.56    1.1           1  Aditya Birla Sun Life Mutual Fund   \n",
       "2   2.67  10.58  0.67   1.42           5  Aditya Birla Sun Life Mutual Fund   \n",
       "3  -6.37  14.99  0.85    0.9           6  Aditya Birla Sun Life Mutual Fund   \n",
       "4   1.99  10.38  0.68   1.39           6  Aditya Birla Sun Life Mutual Fund   \n",
       "\n",
       "   rating           category                                    sub_category  \\\n",
       "0       3              Other                                   FoFs Domestic   \n",
       "1       3             Hybrid                          Arbitrage Mutual Funds   \n",
       "2       3              Other                                   FoFs Domestic   \n",
       "3       2  Solution Oriented                                 Childrens Funds   \n",
       "4       4             Hybrid  Dynamic Asset Allocation or Balanced Advantage   \n",
       "\n",
       "   returns_1yr  returns_3yr  returns_5yr  \n",
       "0          4.0          6.5          6.9  \n",
       "1          5.6          4.8          5.5  \n",
       "2          2.0         18.9          9.7  \n",
       "3         -0.7         17.1          NaN  \n",
       "4          4.5         18.6          9.7  "
      ]
     },
     "execution_count": 4,
     "metadata": {},
     "output_type": "execute_result"
    }
   ],
   "source": [
    "df.head()"
   ]
  },
  {
   "cell_type": "code",
   "execution_count": 5,
   "id": "ee223e58",
   "metadata": {
    "execution": {
     "iopub.execute_input": "2023-05-02T16:30:49.682753Z",
     "iopub.status.busy": "2023-05-02T16:30:49.682391Z",
     "iopub.status.idle": "2023-05-02T16:30:49.691763Z",
     "shell.execute_reply": "2023-05-02T16:30:49.690751Z"
    },
    "papermill": {
     "duration": 0.021071,
     "end_time": "2023-05-02T16:30:49.693647",
     "exception": false,
     "start_time": "2023-05-02T16:30:49.672576",
     "status": "completed"
    },
    "tags": []
   },
   "outputs": [
    {
     "data": {
      "text/plain": [
       "scheme_name       object\n",
       "min_sip            int64\n",
       "min_lumpsum        int64\n",
       "expense_ratio    float64\n",
       "fund_size_cr     float64\n",
       "fund_age_yr        int64\n",
       "fund_manager      object\n",
       "sortino           object\n",
       "alpha             object\n",
       "sd                object\n",
       "beta              object\n",
       "sharpe            object\n",
       "risk_level         int64\n",
       "amc_name          object\n",
       "rating             int64\n",
       "category          object\n",
       "sub_category      object\n",
       "returns_1yr      float64\n",
       "returns_3yr      float64\n",
       "returns_5yr      float64\n",
       "dtype: object"
      ]
     },
     "execution_count": 5,
     "metadata": {},
     "output_type": "execute_result"
    }
   ],
   "source": [
    "df.dtypes"
   ]
  },
  {
   "cell_type": "code",
   "execution_count": 6,
   "id": "195bfb70",
   "metadata": {
    "execution": {
     "iopub.execute_input": "2023-05-02T16:30:49.712278Z",
     "iopub.status.busy": "2023-05-02T16:30:49.711880Z",
     "iopub.status.idle": "2023-05-02T16:30:49.723715Z",
     "shell.execute_reply": "2023-05-02T16:30:49.722641Z"
    },
    "papermill": {
     "duration": 0.023854,
     "end_time": "2023-05-02T16:30:49.725988",
     "exception": false,
     "start_time": "2023-05-02T16:30:49.702134",
     "status": "completed"
    },
    "tags": []
   },
   "outputs": [
    {
     "data": {
      "text/plain": [
       "scheme_name        0\n",
       "min_sip            0\n",
       "min_lumpsum        0\n",
       "expense_ratio      0\n",
       "fund_size_cr       0\n",
       "fund_age_yr        0\n",
       "fund_manager       0\n",
       "sortino            0\n",
       "alpha              0\n",
       "sd                 0\n",
       "beta               0\n",
       "sharpe             0\n",
       "risk_level         0\n",
       "amc_name           0\n",
       "rating             0\n",
       "category           0\n",
       "sub_category       0\n",
       "returns_1yr        0\n",
       "returns_3yr       21\n",
       "returns_5yr      167\n",
       "dtype: int64"
      ]
     },
     "execution_count": 6,
     "metadata": {},
     "output_type": "execute_result"
    }
   ],
   "source": [
    "## Check for missing values\n",
    "df.isnull().sum()"
   ]
  },
  {
   "cell_type": "code",
   "execution_count": 7,
   "id": "2221428a",
   "metadata": {
    "execution": {
     "iopub.execute_input": "2023-05-02T16:30:49.745962Z",
     "iopub.status.busy": "2023-05-02T16:30:49.745254Z",
     "iopub.status.idle": "2023-05-02T16:30:49.756475Z",
     "shell.execute_reply": "2023-05-02T16:30:49.755607Z"
    },
    "papermill": {
     "duration": 0.023601,
     "end_time": "2023-05-02T16:30:49.758622",
     "exception": false,
     "start_time": "2023-05-02T16:30:49.735021",
     "status": "completed"
    },
    "tags": []
   },
   "outputs": [
    {
     "data": {
      "text/plain": [
       "scheme_name        0\n",
       "min_sip            0\n",
       "min_lumpsum        0\n",
       "expense_ratio      0\n",
       "fund_size_cr       0\n",
       "fund_age_yr        0\n",
       "fund_manager       0\n",
       "sortino           23\n",
       "alpha             42\n",
       "sd                24\n",
       "beta              42\n",
       "sharpe            23\n",
       "risk_level         0\n",
       "amc_name           0\n",
       "rating             0\n",
       "category           0\n",
       "sub_category       0\n",
       "returns_1yr        0\n",
       "returns_3yr       21\n",
       "returns_5yr      167\n",
       "dtype: int64"
      ]
     },
     "execution_count": 7,
     "metadata": {},
     "output_type": "execute_result"
    }
   ],
   "source": [
    "## It's observed manually from the file that some of the blanks are not identified, as blanks are filled with '-'\n",
    "## To identify  the actual number of blanks, below is the code\n",
    "\n",
    "df = df.replace('-',np.nan)\n",
    "df.isnull().sum()"
   ]
  },
  {
   "cell_type": "code",
   "execution_count": 8,
   "id": "4c4e6f0e",
   "metadata": {
    "execution": {
     "iopub.execute_input": "2023-05-02T16:30:49.778342Z",
     "iopub.status.busy": "2023-05-02T16:30:49.777686Z",
     "iopub.status.idle": "2023-05-02T16:30:49.798805Z",
     "shell.execute_reply": "2023-05-02T16:30:49.797356Z"
    },
    "papermill": {
     "duration": 0.033665,
     "end_time": "2023-05-02T16:30:49.801218",
     "exception": false,
     "start_time": "2023-05-02T16:30:49.767553",
     "status": "completed"
    },
    "tags": []
   },
   "outputs": [
    {
     "data": {
      "text/plain": [
       "sortino     2.652642\n",
       "alpha       2.505635\n",
       "sd         10.272696\n",
       "beta        0.822241\n",
       "sharpe      1.204185\n",
       "dtype: float64"
      ]
     },
     "execution_count": 8,
     "metadata": {},
     "output_type": "execute_result"
    }
   ],
   "source": [
    "obj_cols = ['sortino', 'alpha', 'sd','beta', 'sharpe']\n",
    "df[obj_cols] = df[obj_cols].astype(float)\n",
    "df[obj_cols].mean(axis = 0, skipna = True)"
   ]
  },
  {
   "cell_type": "code",
   "execution_count": 9,
   "id": "284936ff",
   "metadata": {
    "execution": {
     "iopub.execute_input": "2023-05-02T16:30:49.821169Z",
     "iopub.status.busy": "2023-05-02T16:30:49.820754Z",
     "iopub.status.idle": "2023-05-02T16:30:49.832259Z",
     "shell.execute_reply": "2023-05-02T16:30:49.831215Z"
    },
    "papermill": {
     "duration": 0.024157,
     "end_time": "2023-05-02T16:30:49.834699",
     "exception": false,
     "start_time": "2023-05-02T16:30:49.810542",
     "status": "completed"
    },
    "tags": []
   },
   "outputs": [],
   "source": [
    "## Replace blanks with mean values of the above cols\n",
    "df[obj_cols] = df[obj_cols].fillna(df[obj_cols].mean(axis = 0, skipna = True))"
   ]
  },
  {
   "cell_type": "code",
   "execution_count": 10,
   "id": "369de2b4",
   "metadata": {
    "execution": {
     "iopub.execute_input": "2023-05-02T16:30:49.854825Z",
     "iopub.status.busy": "2023-05-02T16:30:49.854060Z",
     "iopub.status.idle": "2023-05-02T16:30:49.913032Z",
     "shell.execute_reply": "2023-05-02T16:30:49.911666Z"
    },
    "papermill": {
     "duration": 0.071363,
     "end_time": "2023-05-02T16:30:49.915208",
     "exception": false,
     "start_time": "2023-05-02T16:30:49.843845",
     "status": "completed"
    },
    "tags": []
   },
   "outputs": [
    {
     "data": {
      "text/html": [
       "<div>\n",
       "<style scoped>\n",
       "    .dataframe tbody tr th:only-of-type {\n",
       "        vertical-align: middle;\n",
       "    }\n",
       "\n",
       "    .dataframe tbody tr th {\n",
       "        vertical-align: top;\n",
       "    }\n",
       "\n",
       "    .dataframe thead th {\n",
       "        text-align: right;\n",
       "    }\n",
       "</style>\n",
       "<table border=\"1\" class=\"dataframe\">\n",
       "  <thead>\n",
       "    <tr style=\"text-align: right;\">\n",
       "      <th></th>\n",
       "      <th>count</th>\n",
       "      <th>mean</th>\n",
       "      <th>std</th>\n",
       "      <th>min</th>\n",
       "      <th>25%</th>\n",
       "      <th>50%</th>\n",
       "      <th>75%</th>\n",
       "      <th>max</th>\n",
       "    </tr>\n",
       "  </thead>\n",
       "  <tbody>\n",
       "    <tr>\n",
       "      <th>min_sip</th>\n",
       "      <td>814.0</td>\n",
       "      <td>528.500000</td>\n",
       "      <td>369.184517</td>\n",
       "      <td>0.00</td>\n",
       "      <td>150.0000</td>\n",
       "      <td>500.000</td>\n",
       "      <td>1000.0000</td>\n",
       "      <td>2000.00</td>\n",
       "    </tr>\n",
       "    <tr>\n",
       "      <th>min_lumpsum</th>\n",
       "      <td>814.0</td>\n",
       "      <td>3047.468059</td>\n",
       "      <td>2514.619513</td>\n",
       "      <td>0.00</td>\n",
       "      <td>500.0000</td>\n",
       "      <td>5000.000</td>\n",
       "      <td>5000.0000</td>\n",
       "      <td>25000.00</td>\n",
       "    </tr>\n",
       "    <tr>\n",
       "      <th>expense_ratio</th>\n",
       "      <td>814.0</td>\n",
       "      <td>0.713231</td>\n",
       "      <td>0.482161</td>\n",
       "      <td>0.00</td>\n",
       "      <td>0.3100</td>\n",
       "      <td>0.615</td>\n",
       "      <td>1.0300</td>\n",
       "      <td>2.59</td>\n",
       "    </tr>\n",
       "    <tr>\n",
       "      <th>fund_size_cr</th>\n",
       "      <td>814.0</td>\n",
       "      <td>3812.854214</td>\n",
       "      <td>7181.479475</td>\n",
       "      <td>2.38</td>\n",
       "      <td>175.2500</td>\n",
       "      <td>940.500</td>\n",
       "      <td>3819.0000</td>\n",
       "      <td>57052.00</td>\n",
       "    </tr>\n",
       "    <tr>\n",
       "      <th>fund_age_yr</th>\n",
       "      <td>814.0</td>\n",
       "      <td>8.319410</td>\n",
       "      <td>2.640622</td>\n",
       "      <td>1.00</td>\n",
       "      <td>6.0000</td>\n",
       "      <td>10.000</td>\n",
       "      <td>10.0000</td>\n",
       "      <td>17.00</td>\n",
       "    </tr>\n",
       "    <tr>\n",
       "      <th>sortino</th>\n",
       "      <td>814.0</td>\n",
       "      <td>2.652642</td>\n",
       "      <td>1.372393</td>\n",
       "      <td>-1.77</td>\n",
       "      <td>1.8100</td>\n",
       "      <td>2.810</td>\n",
       "      <td>3.4600</td>\n",
       "      <td>12.57</td>\n",
       "    </tr>\n",
       "    <tr>\n",
       "      <th>alpha</th>\n",
       "      <td>814.0</td>\n",
       "      <td>2.505635</td>\n",
       "      <td>3.848149</td>\n",
       "      <td>-13.36</td>\n",
       "      <td>0.5700</td>\n",
       "      <td>2.040</td>\n",
       "      <td>3.7275</td>\n",
       "      <td>27.24</td>\n",
       "    </tr>\n",
       "    <tr>\n",
       "      <th>sd</th>\n",
       "      <td>814.0</td>\n",
       "      <td>10.272696</td>\n",
       "      <td>7.689592</td>\n",
       "      <td>0.27</td>\n",
       "      <td>2.2225</td>\n",
       "      <td>11.785</td>\n",
       "      <td>16.3975</td>\n",
       "      <td>77.72</td>\n",
       "    </tr>\n",
       "    <tr>\n",
       "      <th>beta</th>\n",
       "      <td>814.0</td>\n",
       "      <td>0.822241</td>\n",
       "      <td>1.275588</td>\n",
       "      <td>-31.86</td>\n",
       "      <td>0.7100</td>\n",
       "      <td>0.850</td>\n",
       "      <td>0.9600</td>\n",
       "      <td>5.40</td>\n",
       "    </tr>\n",
       "    <tr>\n",
       "      <th>sharpe</th>\n",
       "      <td>814.0</td>\n",
       "      <td>1.204185</td>\n",
       "      <td>0.528789</td>\n",
       "      <td>-0.82</td>\n",
       "      <td>0.9325</td>\n",
       "      <td>1.290</td>\n",
       "      <td>1.5400</td>\n",
       "      <td>3.52</td>\n",
       "    </tr>\n",
       "    <tr>\n",
       "      <th>risk_level</th>\n",
       "      <td>814.0</td>\n",
       "      <td>4.400491</td>\n",
       "      <td>1.814741</td>\n",
       "      <td>1.00</td>\n",
       "      <td>3.0000</td>\n",
       "      <td>6.000</td>\n",
       "      <td>6.0000</td>\n",
       "      <td>6.00</td>\n",
       "    </tr>\n",
       "    <tr>\n",
       "      <th>rating</th>\n",
       "      <td>814.0</td>\n",
       "      <td>2.641278</td>\n",
       "      <td>1.463476</td>\n",
       "      <td>0.00</td>\n",
       "      <td>2.0000</td>\n",
       "      <td>3.000</td>\n",
       "      <td>4.0000</td>\n",
       "      <td>5.00</td>\n",
       "    </tr>\n",
       "    <tr>\n",
       "      <th>returns_1yr</th>\n",
       "      <td>814.0</td>\n",
       "      <td>3.921376</td>\n",
       "      <td>6.675502</td>\n",
       "      <td>-19.70</td>\n",
       "      <td>1.5000</td>\n",
       "      <td>4.400</td>\n",
       "      <td>5.6000</td>\n",
       "      <td>130.80</td>\n",
       "    </tr>\n",
       "    <tr>\n",
       "      <th>returns_3yr</th>\n",
       "      <td>793.0</td>\n",
       "      <td>18.525347</td>\n",
       "      <td>12.108476</td>\n",
       "      <td>3.30</td>\n",
       "      <td>6.2000</td>\n",
       "      <td>18.500</td>\n",
       "      <td>27.1000</td>\n",
       "      <td>71.40</td>\n",
       "    </tr>\n",
       "    <tr>\n",
       "      <th>returns_5yr</th>\n",
       "      <td>647.0</td>\n",
       "      <td>9.490726</td>\n",
       "      <td>3.714015</td>\n",
       "      <td>-4.10</td>\n",
       "      <td>6.7000</td>\n",
       "      <td>8.900</td>\n",
       "      <td>12.2000</td>\n",
       "      <td>23.20</td>\n",
       "    </tr>\n",
       "  </tbody>\n",
       "</table>\n",
       "</div>"
      ],
      "text/plain": [
       "               count         mean          std    min       25%       50%  \\\n",
       "min_sip        814.0   528.500000   369.184517   0.00  150.0000   500.000   \n",
       "min_lumpsum    814.0  3047.468059  2514.619513   0.00  500.0000  5000.000   \n",
       "expense_ratio  814.0     0.713231     0.482161   0.00    0.3100     0.615   \n",
       "fund_size_cr   814.0  3812.854214  7181.479475   2.38  175.2500   940.500   \n",
       "fund_age_yr    814.0     8.319410     2.640622   1.00    6.0000    10.000   \n",
       "sortino        814.0     2.652642     1.372393  -1.77    1.8100     2.810   \n",
       "alpha          814.0     2.505635     3.848149 -13.36    0.5700     2.040   \n",
       "sd             814.0    10.272696     7.689592   0.27    2.2225    11.785   \n",
       "beta           814.0     0.822241     1.275588 -31.86    0.7100     0.850   \n",
       "sharpe         814.0     1.204185     0.528789  -0.82    0.9325     1.290   \n",
       "risk_level     814.0     4.400491     1.814741   1.00    3.0000     6.000   \n",
       "rating         814.0     2.641278     1.463476   0.00    2.0000     3.000   \n",
       "returns_1yr    814.0     3.921376     6.675502 -19.70    1.5000     4.400   \n",
       "returns_3yr    793.0    18.525347    12.108476   3.30    6.2000    18.500   \n",
       "returns_5yr    647.0     9.490726     3.714015  -4.10    6.7000     8.900   \n",
       "\n",
       "                     75%       max  \n",
       "min_sip        1000.0000   2000.00  \n",
       "min_lumpsum    5000.0000  25000.00  \n",
       "expense_ratio     1.0300      2.59  \n",
       "fund_size_cr   3819.0000  57052.00  \n",
       "fund_age_yr      10.0000     17.00  \n",
       "sortino           3.4600     12.57  \n",
       "alpha             3.7275     27.24  \n",
       "sd               16.3975     77.72  \n",
       "beta              0.9600      5.40  \n",
       "sharpe            1.5400      3.52  \n",
       "risk_level        6.0000      6.00  \n",
       "rating            4.0000      5.00  \n",
       "returns_1yr       5.6000    130.80  \n",
       "returns_3yr      27.1000     71.40  \n",
       "returns_5yr      12.2000     23.20  "
      ]
     },
     "execution_count": 10,
     "metadata": {},
     "output_type": "execute_result"
    }
   ],
   "source": [
    "df.describe().T"
   ]
  },
  {
   "cell_type": "code",
   "execution_count": 11,
   "id": "983f7c73",
   "metadata": {
    "execution": {
     "iopub.execute_input": "2023-05-02T16:30:49.936188Z",
     "iopub.status.busy": "2023-05-02T16:30:49.935151Z",
     "iopub.status.idle": "2023-05-02T16:30:49.942846Z",
     "shell.execute_reply": "2023-05-02T16:30:49.941807Z"
    },
    "papermill": {
     "duration": 0.020364,
     "end_time": "2023-05-02T16:30:49.945103",
     "exception": false,
     "start_time": "2023-05-02T16:30:49.924739",
     "status": "completed"
    },
    "tags": []
   },
   "outputs": [],
   "source": [
    "## There are 3 features 'returns_1yr', 'returns_3yr','returns_5yr' giving us the idea about the \n",
    "## performance of a fund. Let's create a new column giving the average return of the three year returns.\n",
    "\n",
    "df['overall_return'] =  df[['returns_1yr', 'returns_3yr','returns_5yr']].mean(axis=1).round(1)"
   ]
  },
  {
   "cell_type": "code",
   "execution_count": 12,
   "id": "aa2c2cf5",
   "metadata": {
    "execution": {
     "iopub.execute_input": "2023-05-02T16:30:49.965578Z",
     "iopub.status.busy": "2023-05-02T16:30:49.964939Z",
     "iopub.status.idle": "2023-05-02T16:30:49.979106Z",
     "shell.execute_reply": "2023-05-02T16:30:49.978365Z"
    },
    "papermill": {
     "duration": 0.02661,
     "end_time": "2023-05-02T16:30:49.981162",
     "exception": false,
     "start_time": "2023-05-02T16:30:49.954552",
     "status": "completed"
    },
    "tags": []
   },
   "outputs": [
    {
     "data": {
      "text/html": [
       "<div>\n",
       "<style scoped>\n",
       "    .dataframe tbody tr th:only-of-type {\n",
       "        vertical-align: middle;\n",
       "    }\n",
       "\n",
       "    .dataframe tbody tr th {\n",
       "        vertical-align: top;\n",
       "    }\n",
       "\n",
       "    .dataframe thead th {\n",
       "        text-align: right;\n",
       "    }\n",
       "</style>\n",
       "<table border=\"1\" class=\"dataframe\">\n",
       "  <thead>\n",
       "    <tr style=\"text-align: right;\">\n",
       "      <th></th>\n",
       "      <th>overall_return</th>\n",
       "      <th>return_group</th>\n",
       "    </tr>\n",
       "  </thead>\n",
       "  <tbody>\n",
       "    <tr>\n",
       "      <th>0</th>\n",
       "      <td>5.8</td>\n",
       "      <td>Less than 10%</td>\n",
       "    </tr>\n",
       "    <tr>\n",
       "      <th>1</th>\n",
       "      <td>5.3</td>\n",
       "      <td>Less than 10%</td>\n",
       "    </tr>\n",
       "    <tr>\n",
       "      <th>2</th>\n",
       "      <td>10.2</td>\n",
       "      <td>10% to 20%</td>\n",
       "    </tr>\n",
       "    <tr>\n",
       "      <th>3</th>\n",
       "      <td>8.2</td>\n",
       "      <td>Less than 10%</td>\n",
       "    </tr>\n",
       "    <tr>\n",
       "      <th>4</th>\n",
       "      <td>10.9</td>\n",
       "      <td>10% to 20%</td>\n",
       "    </tr>\n",
       "  </tbody>\n",
       "</table>\n",
       "</div>"
      ],
      "text/plain": [
       "   overall_return   return_group\n",
       "0             5.8  Less than 10%\n",
       "1             5.3  Less than 10%\n",
       "2            10.2     10% to 20%\n",
       "3             8.2  Less than 10%\n",
       "4            10.9     10% to 20%"
      ]
     },
     "execution_count": 12,
     "metadata": {},
     "output_type": "execute_result"
    }
   ],
   "source": [
    "## Let's create a categorical column for the 'overall_return'\n",
    "## For eg. if the overall return has return 6.7%, let's tag it as \"Less than 10%\"\n",
    "\n",
    "def return_group(x):\n",
    "    if (x<=10):\n",
    "        return 'Less than 10%'\n",
    "    elif ((x>10) & (x<=20)):\n",
    "        return '10% to 20%'\n",
    "    else:\n",
    "        return 'Higher than 20%'\n",
    "    \n",
    "df['return_group'] = df['overall_return'].apply(return_group)\n",
    "df[['overall_return','return_group']].head()"
   ]
  },
  {
   "cell_type": "markdown",
   "id": "c7da3694",
   "metadata": {
    "execution": {
     "iopub.execute_input": "2023-05-02T15:51:59.801765Z",
     "iopub.status.busy": "2023-05-02T15:51:59.801333Z",
     "iopub.status.idle": "2023-05-02T15:51:59.817137Z",
     "shell.execute_reply": "2023-05-02T15:51:59.815691Z",
     "shell.execute_reply.started": "2023-05-02T15:51:59.801735Z"
    },
    "papermill": {
     "duration": 0.009288,
     "end_time": "2023-05-02T16:30:50.000030",
     "exception": false,
     "start_time": "2023-05-02T16:30:49.990742",
     "status": "completed"
    },
    "tags": []
   },
   "source": [
    "# Correlation of numerical features"
   ]
  },
  {
   "cell_type": "code",
   "execution_count": 13,
   "id": "018ee9bd",
   "metadata": {
    "execution": {
     "iopub.execute_input": "2023-05-02T16:30:50.020997Z",
     "iopub.status.busy": "2023-05-02T16:30:50.020583Z",
     "iopub.status.idle": "2023-05-02T16:30:50.036498Z",
     "shell.execute_reply": "2023-05-02T16:30:50.035009Z"
    },
    "papermill": {
     "duration": 0.029069,
     "end_time": "2023-05-02T16:30:50.038665",
     "exception": false,
     "start_time": "2023-05-02T16:30:50.009596",
     "status": "completed"
    },
    "tags": []
   },
   "outputs": [
    {
     "name": "stdout",
     "output_type": "stream",
     "text": [
      "overall_return    1.000000\n",
      "sd                0.746243\n",
      "risk_level        0.670668\n",
      "sharpe            0.541430\n",
      "alpha             0.488816\n",
      "expense_ratio     0.422197\n",
      "sortino           0.400345\n",
      "fund_age_yr       0.067284\n",
      "fund_size_cr      0.020573\n",
      "rating            0.005839\n",
      "min_lumpsum      -0.027091\n",
      "min_sip          -0.192928\n",
      "beta             -0.208518\n",
      "Name: overall_return, dtype: float64\n"
     ]
    }
   ],
   "source": [
    "numeric_features = df.select_dtypes(include = 'number')\n",
    "\n",
    "numeric_features2 = numeric_features.drop(columns = ['returns_1yr', 'returns_3yr','returns_5yr'])\n",
    "\n",
    "correlation = numeric_features2.corr()\n",
    "\n",
    "print(correlation['overall_return'].sort_values(ascending = False))"
   ]
  },
  {
   "cell_type": "markdown",
   "id": "da240ba2",
   "metadata": {
    "papermill": {
     "duration": 0.009173,
     "end_time": "2023-05-02T16:30:50.058171",
     "exception": false,
     "start_time": "2023-05-02T16:30:50.048998",
     "status": "completed"
    },
    "tags": []
   },
   "source": [
    "## Heat Map on numerical features"
   ]
  },
  {
   "cell_type": "code",
   "execution_count": 14,
   "id": "efda11f0",
   "metadata": {
    "execution": {
     "iopub.execute_input": "2023-05-02T16:30:50.079197Z",
     "iopub.status.busy": "2023-05-02T16:30:50.078828Z",
     "iopub.status.idle": "2023-05-02T16:30:50.884693Z",
     "shell.execute_reply": "2023-05-02T16:30:50.883588Z"
    },
    "papermill": {
     "duration": 0.819547,
     "end_time": "2023-05-02T16:30:50.887212",
     "exception": false,
     "start_time": "2023-05-02T16:30:50.067665",
     "status": "completed"
    },
    "tags": []
   },
   "outputs": [
    {
     "data": {
      "image/png": "[encoded data removed]",
      "text/plain": [
       "<Figure size 1000x600 with 2 Axes>"
      ]
     },
     "metadata": {},
     "output_type": "display_data"
    }
   ],
   "source": [
    "plt.figure(figsize = (10,6))\n",
    "plt.title('Correlation of numeric features with overall returns')\n",
    "sns.heatmap(correlation, annot = True, cmap=\"binary\")\n",
    "plt.show()"
   ]
  },
  {
   "cell_type": "markdown",
   "id": "379dff6c",
   "metadata": {
    "papermill": {
     "duration": 0.011568,
     "end_time": "2023-05-02T16:30:50.910774",
     "exception": false,
     "start_time": "2023-05-02T16:30:50.899206",
     "status": "completed"
    },
    "tags": []
   },
   "source": [
    "Observation from the above heat map:\n",
    "\n",
    "* sd is 0.75 -- good correlation with average return\n",
    "* sortino and sharpe 0.81 -- multicollinear "
   ]
  },
  {
   "cell_type": "markdown",
   "id": "26ed05ca",
   "metadata": {
    "papermill": {
     "duration": 0.011493,
     "end_time": "2023-05-02T16:30:50.934254",
     "exception": false,
     "start_time": "2023-05-02T16:30:50.922761",
     "status": "completed"
    },
    "tags": []
   },
   "source": [
    "# Visual representation of the good correlation features with the average return."
   ]
  },
  {
   "cell_type": "code",
   "execution_count": 15,
   "id": "1812436b",
   "metadata": {
    "execution": {
     "iopub.execute_input": "2023-05-02T16:30:50.960183Z",
     "iopub.status.busy": "2023-05-02T16:30:50.959775Z",
     "iopub.status.idle": "2023-05-02T16:30:51.470703Z",
     "shell.execute_reply": "2023-05-02T16:30:51.469479Z"
    },
    "papermill": {
     "duration": 0.526645,
     "end_time": "2023-05-02T16:30:51.473280",
     "exception": false,
     "start_time": "2023-05-02T16:30:50.946635",
     "status": "completed"
    },
    "tags": []
   },
   "outputs": [
    {
     "data": {
      "image/png": "[encoded data removed]",
      "text/plain": [
       "<Figure size 1500x500 with 3 Axes>"
      ]
     },
     "metadata": {},
     "output_type": "display_data"
    }
   ],
   "source": [
    "figure, axis = plt.subplots(1, 3, figsize=(15, 5))\n",
    "\n",
    "axis[0].scatter(df['sd'], df['overall_return'],color='green')\n",
    "axis[0].set_title(\"Sd Vs Overall Return\")\n",
    "  \n",
    "\n",
    "axis[1].scatter(df['sortino'], df['overall_return'])\n",
    "axis[1].set_title(\"Sortino Vs Overall Return\")\n",
    "  \n",
    "\n",
    "axis[2].scatter(df['sharpe'], df['overall_return'],color='orange')\n",
    "axis[2].set_title(\"Sharpe Vs Overall Return\")\n",
    "  \n",
    "    \n",
    "plt.show()"
   ]
  },
  {
   "cell_type": "markdown",
   "id": "6a27c1d1",
   "metadata": {
    "papermill": {
     "duration": 0.012615,
     "end_time": "2023-05-02T16:30:51.499243",
     "exception": false,
     "start_time": "2023-05-02T16:30:51.486628",
     "status": "completed"
    },
    "tags": []
   },
   "source": [
    "Observation from tha above scatter plots:\n",
    "\n",
    "* It seems that fund with high standard deviation have the probability of gaining higher returns.\n",
    "\n",
    "* Same for sortino & sharpe as well but there seem to be some outliers as well."
   ]
  },
  {
   "cell_type": "markdown",
   "id": "780b8b47",
   "metadata": {
    "execution": {
     "iopub.execute_input": "2023-05-02T16:12:35.586800Z",
     "iopub.status.busy": "2023-05-02T16:12:35.586319Z",
     "iopub.status.idle": "2023-05-02T16:12:35.592495Z",
     "shell.execute_reply": "2023-05-02T16:12:35.591266Z",
     "shell.execute_reply.started": "2023-05-02T16:12:35.586755Z"
    },
    "papermill": {
     "duration": 0.013334,
     "end_time": "2023-05-02T16:30:51.525653",
     "exception": false,
     "start_time": "2023-05-02T16:30:51.512319",
     "status": "completed"
    },
    "tags": []
   },
   "source": [
    "# Top performing Funds based on Average Returns"
   ]
  },
  {
   "cell_type": "code",
   "execution_count": 16,
   "id": "fb9ea639",
   "metadata": {
    "execution": {
     "iopub.execute_input": "2023-05-02T16:30:51.554079Z",
     "iopub.status.busy": "2023-05-02T16:30:51.552999Z",
     "iopub.status.idle": "2023-05-02T16:30:51.595325Z",
     "shell.execute_reply": "2023-05-02T16:30:51.594135Z"
    },
    "papermill": {
     "duration": 0.058802,
     "end_time": "2023-05-02T16:30:51.597632",
     "exception": false,
     "start_time": "2023-05-02T16:30:51.538830",
     "status": "completed"
    },
    "tags": []
   },
   "outputs": [
    {
     "data": {
      "application/vnd.jupyter.widget-view+json": {
       "model_id": "d52905040d944edfb3ce3c1f0a81e6a2",
       "version_major": 2,
       "version_minor": 0
      },
      "text/plain": [
       "interactive(children=(Dropdown(description='return_group', options=('Less than 10%', '10% to 20%', 'Higher tha…"
      ]
     },
     "metadata": {},
     "output_type": "display_data"
    }
   ],
   "source": [
    "@interact\n",
    "def recomd_funds(return_group = list(df['return_group'].unique()),Top = list([10,20,30,40,50,100,500])):\n",
    "    a = df[df['return_group'] == return_group][['scheme_name', 'returns_1yr','returns_3yr','returns_5yr','overall_return']]\n",
    "    a = a.sort_values(by = 'overall_return', ascending = False)\n",
    "    n = a.scheme_name.count()\n",
    "    print('{} funds found: \\nTop {} funds giving returns {} listed below:'.format(n,Top,return_group))\n",
    "    return a.set_index('scheme_name')[:Top]"
   ]
  },
  {
   "cell_type": "markdown",
   "id": "7f922bc3",
   "metadata": {
    "papermill": {
     "duration": 0.013594,
     "end_time": "2023-05-02T16:30:51.625534",
     "exception": false,
     "start_time": "2023-05-02T16:30:51.611940",
     "status": "completed"
    },
    "tags": []
   },
   "source": [
    "# Top performing Funds based on Rating"
   ]
  },
  {
   "cell_type": "code",
   "execution_count": 17,
   "id": "c38d493b",
   "metadata": {
    "execution": {
     "iopub.execute_input": "2023-05-02T16:30:51.653965Z",
     "iopub.status.busy": "2023-05-02T16:30:51.653561Z",
     "iopub.status.idle": "2023-05-02T16:30:51.701391Z",
     "shell.execute_reply": "2023-05-02T16:30:51.700161Z"
    },
    "papermill": {
     "duration": 0.064889,
     "end_time": "2023-05-02T16:30:51.703502",
     "exception": false,
     "start_time": "2023-05-02T16:30:51.638613",
     "status": "completed"
    },
    "tags": []
   },
   "outputs": [
    {
     "data": {
      "application/vnd.jupyter.widget-view+json": {
       "model_id": "3229a25549514710bb1040d7f4e92b3e",
       "version_major": 2,
       "version_minor": 0
      },
      "text/plain": [
       "interactive(children=(Dropdown(description='rating', options=(5, 4, 3, 2, 1, 0), value=5), Dropdown(descriptio…"
      ]
     },
     "metadata": {},
     "output_type": "display_data"
    }
   ],
   "source": [
    "@interact\n",
    "def recomd_funds_rating(rating = list(df['rating'].sort_values(ascending = False).unique()),Top = list([10,20,30,40,50,100,500])):\n",
    "    a = df[df['rating'] == rating][['scheme_name','rating', 'returns_1yr','returns_3yr','returns_5yr','overall_return'\n",
    "                                   ,'fund_size_cr','fund_age_yr','sortino','alpha','sd','beta','sharpe']]\n",
    "    a = a.sort_values(by = 'overall_return', ascending = False)\n",
    "    n = a.scheme_name.count()\n",
    "    print('{} funds found: \\nTop {} funds giving rating {} listed below:'.format(n,Top,rating))\n",
    "    return a.set_index('scheme_name')[:Top]"
   ]
  },
  {
   "cell_type": "markdown",
   "id": "a14eed62",
   "metadata": {
    "papermill": {
     "duration": 0.013326,
     "end_time": "2023-05-02T16:30:51.731149",
     "exception": false,
     "start_time": "2023-05-02T16:30:51.717823",
     "status": "completed"
    },
    "tags": []
   },
   "source": [
    "# Top performing Funds based on Standard Deviation"
   ]
  },
  {
   "cell_type": "code",
   "execution_count": 18,
   "id": "1defd096",
   "metadata": {
    "execution": {
     "iopub.execute_input": "2023-05-02T16:30:51.760507Z",
     "iopub.status.busy": "2023-05-02T16:30:51.759876Z",
     "iopub.status.idle": "2023-05-02T16:30:51.795771Z",
     "shell.execute_reply": "2023-05-02T16:30:51.794605Z"
    },
    "papermill": {
     "duration": 0.053776,
     "end_time": "2023-05-02T16:30:51.798440",
     "exception": false,
     "start_time": "2023-05-02T16:30:51.744664",
     "status": "completed"
    },
    "tags": []
   },
   "outputs": [
    {
     "data": {
      "application/vnd.jupyter.widget-view+json": {
       "model_id": "565e6e99915240c184c8177d8679d4dd",
       "version_major": 2,
       "version_minor": 0
      },
      "text/plain": [
       "interactive(children=(Dropdown(description='Top', options=(10, 20, 30, 40, 50), value=10), Output()), _dom_cla…"
      ]
     },
     "metadata": {},
     "output_type": "display_data"
    }
   ],
   "source": [
    "@interact\n",
    "def recomd_funds_rating(Top = list([10,20,30,40,50])):\n",
    "    a = df[['scheme_name','sd', 'overall_return','returns_1yr','returns_3yr','returns_5yr','rating',\n",
    "            'sortino','alpha','beta','sharpe']]\n",
    "    a = a.sort_values(by = 'sd', ascending = False)\n",
    "    n = a.scheme_name.count()\n",
    "    print('Top {} funds having sd value sorted in descending order listed below:'.format(Top))\n",
    "    return a.set_index('scheme_name')[:Top]"
   ]
  },
  {
   "cell_type": "markdown",
   "id": "432b35ba",
   "metadata": {
    "papermill": {
     "duration": 0.013459,
     "end_time": "2023-05-02T16:30:51.828152",
     "exception": false,
     "start_time": "2023-05-02T16:30:51.814693",
     "status": "completed"
    },
    "tags": []
   },
   "source": [
    "# Fund performance at Category level"
   ]
  },
  {
   "cell_type": "code",
   "execution_count": 19,
   "id": "0ec942dc",
   "metadata": {
    "execution": {
     "iopub.execute_input": "2023-05-02T16:30:51.858923Z",
     "iopub.status.busy": "2023-05-02T16:30:51.857794Z",
     "iopub.status.idle": "2023-05-02T16:30:52.564225Z",
     "shell.execute_reply": "2023-05-02T16:30:52.563158Z"
    },
    "papermill": {
     "duration": 0.724827,
     "end_time": "2023-05-02T16:30:52.566944",
     "exception": false,
     "start_time": "2023-05-02T16:30:51.842117",
     "status": "completed"
    },
    "tags": []
   },
   "outputs": [
    {
     "name": "stderr",
     "output_type": "stream",
     "text": [
      "/opt/conda/lib/python3.10/site-packages/numpy/lib/nanfunctions.py:1559: RuntimeWarning: All-NaN slice encountered\n",
      "  r, k = function_base._ureduce(a,\n",
      "/opt/conda/lib/python3.10/site-packages/numpy/lib/nanfunctions.py:1559: RuntimeWarning: All-NaN slice encountered\n",
      "  r, k = function_base._ureduce(a,\n",
      "/opt/conda/lib/python3.10/site-packages/numpy/lib/nanfunctions.py:1559: RuntimeWarning: All-NaN slice encountered\n",
      "  r, k = function_base._ureduce(a,\n",
      "/opt/conda/lib/python3.10/site-packages/numpy/lib/nanfunctions.py:1559: RuntimeWarning: All-NaN slice encountered\n",
      "  r, k = function_base._ureduce(a,\n",
      "/opt/conda/lib/python3.10/site-packages/numpy/lib/nanfunctions.py:1559: RuntimeWarning: All-NaN slice encountered\n",
      "  r, k = function_base._ureduce(a,\n",
      "/opt/conda/lib/python3.10/site-packages/numpy/lib/nanfunctions.py:1559: RuntimeWarning: All-NaN slice encountered\n",
      "  r, k = function_base._ureduce(a,\n"
     ]
    },
    {
     "data": {
      "image/png": "[encoded data removed]",
      "text/plain": [
       "<Figure size 900x500 with 1 Axes>"
      ]
     },
     "metadata": {},
     "output_type": "display_data"
    }
   ],
   "source": [
    "return_1yr = df.drop(columns = ['returns_3yr','returns_5yr']).rename(columns = {'returns_1yr':'returns'})\n",
    "return_1yr['return_category'] = 'return_1yr'\n",
    "return_3yr = df.drop(columns = ['returns_1yr','returns_5yr']).rename(columns = {'returns_3yr':'returns'})\n",
    "return_3yr['return_category'] = 'return_3yr'\n",
    "return_5yr = df.drop(columns = ['returns_1yr','returns_3yr']).rename(columns = {'returns_5yr':'returns'})\n",
    "return_5yr['return_category'] = 'return_5yr'\n",
    "\n",
    "df_concat = pd.concat([return_1yr,return_3yr,return_5yr])\n",
    "\n",
    "plt.figure(figsize = (9,5))\n",
    "sns.barplot(df_concat,x='category',y='returns',hue='return_category',estimator = np.mean)\n",
    "plt.title('Fund performance at Category level')\n",
    "plt.show()"
   ]
  },
  {
   "cell_type": "markdown",
   "id": "88ba67e0",
   "metadata": {
    "papermill": {
     "duration": 0.013699,
     "end_time": "2023-05-02T16:30:52.594983",
     "exception": false,
     "start_time": "2023-05-02T16:30:52.581284",
     "status": "completed"
    },
    "tags": []
   },
   "source": [
    "* From the above chart, Equity category funds gives the highest returns."
   ]
  },
  {
   "cell_type": "markdown",
   "id": "6fb3ca7c",
   "metadata": {
    "papermill": {
     "duration": 0.014132,
     "end_time": "2023-05-02T16:30:52.623579",
     "exception": false,
     "start_time": "2023-05-02T16:30:52.609447",
     "status": "completed"
    },
    "tags": []
   },
   "source": [
    "# Fund performance at risk level"
   ]
  },
  {
   "cell_type": "code",
   "execution_count": 20,
   "id": "80126c6c",
   "metadata": {
    "execution": {
     "iopub.execute_input": "2023-05-02T16:30:52.653705Z",
     "iopub.status.busy": "2023-05-02T16:30:52.652982Z",
     "iopub.status.idle": "2023-05-02T16:30:53.410030Z",
     "shell.execute_reply": "2023-05-02T16:30:53.408981Z"
    },
    "papermill": {
     "duration": 0.775029,
     "end_time": "2023-05-02T16:30:53.412718",
     "exception": false,
     "start_time": "2023-05-02T16:30:52.637689",
     "status": "completed"
    },
    "tags": []
   },
   "outputs": [
    {
     "name": "stderr",
     "output_type": "stream",
     "text": [
      "/opt/conda/lib/python3.10/site-packages/numpy/lib/nanfunctions.py:1559: RuntimeWarning: All-NaN slice encountered\n",
      "  r, k = function_base._ureduce(a,\n",
      "/opt/conda/lib/python3.10/site-packages/numpy/lib/nanfunctions.py:1559: RuntimeWarning: All-NaN slice encountered\n",
      "  r, k = function_base._ureduce(a,\n",
      "/opt/conda/lib/python3.10/site-packages/numpy/lib/nanfunctions.py:1559: RuntimeWarning: All-NaN slice encountered\n",
      "  r, k = function_base._ureduce(a,\n",
      "/opt/conda/lib/python3.10/site-packages/numpy/lib/nanfunctions.py:1559: RuntimeWarning: All-NaN slice encountered\n",
      "  r, k = function_base._ureduce(a,\n",
      "/opt/conda/lib/python3.10/site-packages/numpy/lib/nanfunctions.py:1559: RuntimeWarning: All-NaN slice encountered\n",
      "  r, k = function_base._ureduce(a,\n",
      "/opt/conda/lib/python3.10/site-packages/numpy/lib/nanfunctions.py:1559: RuntimeWarning: All-NaN slice encountered\n",
      "  r, k = function_base._ureduce(a,\n"
     ]
    },
    {
     "data": {
      "image/png": "[encoded data removed]",
      "text/plain": [
       "<Figure size 900x500 with 1 Axes>"
      ]
     },
     "metadata": {},
     "output_type": "display_data"
    }
   ],
   "source": [
    "plt.figure(figsize = (9,5))\n",
    "sns.barplot(df_concat,x='risk_level',y='returns',hue='return_category',estimator = np.mean)\n",
    "plt.title('Fund performance at Risk level')\n",
    "plt.show()"
   ]
  },
  {
   "cell_type": "markdown",
   "id": "f14cc589",
   "metadata": {
    "papermill": {
     "duration": 0.018447,
     "end_time": "2023-05-02T16:30:53.446853",
     "exception": false,
     "start_time": "2023-05-02T16:30:53.428406",
     "status": "completed"
    },
    "tags": []
   },
   "source": [
    "* From the above charts, it is observed that funds give highest returns at 3rd year.\n",
    "* Return increases as risk increases.\n",
    "* It can be advised that investors should atleast invest for 3 years in a fund."
   ]
  },
  {
   "cell_type": "code",
   "execution_count": 21,
   "id": "ba01f49b",
   "metadata": {
    "execution": {
     "iopub.execute_input": "2023-05-02T16:30:53.478627Z",
     "iopub.status.busy": "2023-05-02T16:30:53.478219Z",
     "iopub.status.idle": "2023-05-02T16:30:54.612584Z",
     "shell.execute_reply": "2023-05-02T16:30:54.611522Z"
    },
    "papermill": {
     "duration": 1.153319,
     "end_time": "2023-05-02T16:30:54.615126",
     "exception": false,
     "start_time": "2023-05-02T16:30:53.461807",
     "status": "completed"
    },
    "tags": []
   },
   "outputs": [
    {
     "data": {
      "image/png": "[encoded data removed]",
      "text/plain": [
       "<Figure size 640x480 with 1 Axes>"
      ]
     },
     "metadata": {},
     "output_type": "display_data"
    }
   ],
   "source": [
    "sns.barplot(df_concat,x='rating',y='returns',hue='return_category')\n",
    "plt.title('Fund performance at Rating level')\n",
    "plt.show()"
   ]
  },
  {
   "cell_type": "markdown",
   "id": "c3e0acbe",
   "metadata": {
    "papermill": {
     "duration": 0.015258,
     "end_time": "2023-05-02T16:30:54.645694",
     "exception": false,
     "start_time": "2023-05-02T16:30:54.630436",
     "status": "completed"
    },
    "tags": []
   },
   "source": [
    "It is observed from the above chart that the return increases as per the rating of the funds increase. \n",
    "\n",
    "However, we also see at rating 0, the return is highest among all for 3rd & 5th year. \n",
    "\n",
    "Let's find out WHY??"
   ]
  },
  {
   "cell_type": "code",
   "execution_count": 22,
   "id": "c1ccda82",
   "metadata": {
    "execution": {
     "iopub.execute_input": "2023-05-02T16:30:54.684732Z",
     "iopub.status.busy": "2023-05-02T16:30:54.684222Z",
     "iopub.status.idle": "2023-05-02T16:30:54.693262Z",
     "shell.execute_reply": "2023-05-02T16:30:54.692526Z"
    },
    "papermill": {
     "duration": 0.033283,
     "end_time": "2023-05-02T16:30:54.696839",
     "exception": false,
     "start_time": "2023-05-02T16:30:54.663556",
     "status": "completed"
    },
    "tags": []
   },
   "outputs": [
    {
     "data": {
      "text/plain": [
       "rating\n",
       "0    108\n",
       "1     58\n",
       "2    168\n",
       "3    243\n",
       "4    158\n",
       "5     79\n",
       "Name: scheme_name, dtype: int64"
      ]
     },
     "execution_count": 22,
     "metadata": {},
     "output_type": "execute_result"
    }
   ],
   "source": [
    "# Fetch total number of funds at rating level\n",
    "df2=df.groupby(['rating'])['scheme_name'].agg('count')\n",
    "df2"
   ]
  },
  {
   "cell_type": "code",
   "execution_count": 23,
   "id": "8d2dd74e",
   "metadata": {
    "execution": {
     "iopub.execute_input": "2023-05-02T16:30:54.736666Z",
     "iopub.status.busy": "2023-05-02T16:30:54.735881Z",
     "iopub.status.idle": "2023-05-02T16:30:54.756243Z",
     "shell.execute_reply": "2023-05-02T16:30:54.755394Z"
    },
    "papermill": {
     "duration": 0.045346,
     "end_time": "2023-05-02T16:30:54.758768",
     "exception": false,
     "start_time": "2023-05-02T16:30:54.713422",
     "status": "completed"
    },
    "tags": []
   },
   "outputs": [
    {
     "data": {
      "text/html": [
       "<div>\n",
       "<style scoped>\n",
       "    .dataframe tbody tr th:only-of-type {\n",
       "        vertical-align: middle;\n",
       "    }\n",
       "\n",
       "    .dataframe tbody tr th {\n",
       "        vertical-align: top;\n",
       "    }\n",
       "\n",
       "    .dataframe thead th {\n",
       "        text-align: right;\n",
       "    }\n",
       "</style>\n",
       "<table border=\"1\" class=\"dataframe\">\n",
       "  <thead>\n",
       "    <tr style=\"text-align: right;\">\n",
       "      <th></th>\n",
       "      <th>category</th>\n",
       "      <th>rating</th>\n",
       "      <th>no. of funds</th>\n",
       "    </tr>\n",
       "  </thead>\n",
       "  <tbody>\n",
       "    <tr>\n",
       "      <th>0</th>\n",
       "      <td>Debt</td>\n",
       "      <td>0</td>\n",
       "      <td>4</td>\n",
       "    </tr>\n",
       "    <tr>\n",
       "      <th>1</th>\n",
       "      <td>Debt</td>\n",
       "      <td>1</td>\n",
       "      <td>22</td>\n",
       "    </tr>\n",
       "    <tr>\n",
       "      <th>2</th>\n",
       "      <td>Debt</td>\n",
       "      <td>2</td>\n",
       "      <td>66</td>\n",
       "    </tr>\n",
       "    <tr>\n",
       "      <th>3</th>\n",
       "      <td>Debt</td>\n",
       "      <td>3</td>\n",
       "      <td>96</td>\n",
       "    </tr>\n",
       "    <tr>\n",
       "      <th>4</th>\n",
       "      <td>Debt</td>\n",
       "      <td>4</td>\n",
       "      <td>64</td>\n",
       "    </tr>\n",
       "    <tr>\n",
       "      <th>5</th>\n",
       "      <td>Debt</td>\n",
       "      <td>5</td>\n",
       "      <td>30</td>\n",
       "    </tr>\n",
       "    <tr>\n",
       "      <th>6</th>\n",
       "      <td>Equity</td>\n",
       "      <td>0</td>\n",
       "      <td>78</td>\n",
       "    </tr>\n",
       "    <tr>\n",
       "      <th>7</th>\n",
       "      <td>Equity</td>\n",
       "      <td>1</td>\n",
       "      <td>18</td>\n",
       "    </tr>\n",
       "    <tr>\n",
       "      <th>8</th>\n",
       "      <td>Equity</td>\n",
       "      <td>2</td>\n",
       "      <td>54</td>\n",
       "    </tr>\n",
       "    <tr>\n",
       "      <th>9</th>\n",
       "      <td>Equity</td>\n",
       "      <td>3</td>\n",
       "      <td>76</td>\n",
       "    </tr>\n",
       "    <tr>\n",
       "      <th>10</th>\n",
       "      <td>Equity</td>\n",
       "      <td>4</td>\n",
       "      <td>52</td>\n",
       "    </tr>\n",
       "    <tr>\n",
       "      <th>11</th>\n",
       "      <td>Equity</td>\n",
       "      <td>5</td>\n",
       "      <td>30</td>\n",
       "    </tr>\n",
       "    <tr>\n",
       "      <th>12</th>\n",
       "      <td>Hybrid</td>\n",
       "      <td>0</td>\n",
       "      <td>2</td>\n",
       "    </tr>\n",
       "    <tr>\n",
       "      <th>13</th>\n",
       "      <td>Hybrid</td>\n",
       "      <td>1</td>\n",
       "      <td>10</td>\n",
       "    </tr>\n",
       "    <tr>\n",
       "      <th>14</th>\n",
       "      <td>Hybrid</td>\n",
       "      <td>2</td>\n",
       "      <td>25</td>\n",
       "    </tr>\n",
       "    <tr>\n",
       "      <th>15</th>\n",
       "      <td>Hybrid</td>\n",
       "      <td>3</td>\n",
       "      <td>39</td>\n",
       "    </tr>\n",
       "    <tr>\n",
       "      <th>16</th>\n",
       "      <td>Hybrid</td>\n",
       "      <td>4</td>\n",
       "      <td>27</td>\n",
       "    </tr>\n",
       "    <tr>\n",
       "      <th>17</th>\n",
       "      <td>Hybrid</td>\n",
       "      <td>5</td>\n",
       "      <td>13</td>\n",
       "    </tr>\n",
       "    <tr>\n",
       "      <th>18</th>\n",
       "      <td>Other</td>\n",
       "      <td>0</td>\n",
       "      <td>19</td>\n",
       "    </tr>\n",
       "    <tr>\n",
       "      <th>19</th>\n",
       "      <td>Other</td>\n",
       "      <td>1</td>\n",
       "      <td>4</td>\n",
       "    </tr>\n",
       "    <tr>\n",
       "      <th>20</th>\n",
       "      <td>Other</td>\n",
       "      <td>2</td>\n",
       "      <td>14</td>\n",
       "    </tr>\n",
       "    <tr>\n",
       "      <th>21</th>\n",
       "      <td>Other</td>\n",
       "      <td>3</td>\n",
       "      <td>27</td>\n",
       "    </tr>\n",
       "    <tr>\n",
       "      <th>22</th>\n",
       "      <td>Other</td>\n",
       "      <td>4</td>\n",
       "      <td>12</td>\n",
       "    </tr>\n",
       "    <tr>\n",
       "      <th>23</th>\n",
       "      <td>Other</td>\n",
       "      <td>5</td>\n",
       "      <td>4</td>\n",
       "    </tr>\n",
       "    <tr>\n",
       "      <th>24</th>\n",
       "      <td>Solution Oriented</td>\n",
       "      <td>0</td>\n",
       "      <td>5</td>\n",
       "    </tr>\n",
       "    <tr>\n",
       "      <th>25</th>\n",
       "      <td>Solution Oriented</td>\n",
       "      <td>1</td>\n",
       "      <td>4</td>\n",
       "    </tr>\n",
       "    <tr>\n",
       "      <th>26</th>\n",
       "      <td>Solution Oriented</td>\n",
       "      <td>2</td>\n",
       "      <td>9</td>\n",
       "    </tr>\n",
       "    <tr>\n",
       "      <th>27</th>\n",
       "      <td>Solution Oriented</td>\n",
       "      <td>3</td>\n",
       "      <td>5</td>\n",
       "    </tr>\n",
       "    <tr>\n",
       "      <th>28</th>\n",
       "      <td>Solution Oriented</td>\n",
       "      <td>4</td>\n",
       "      <td>3</td>\n",
       "    </tr>\n",
       "    <tr>\n",
       "      <th>29</th>\n",
       "      <td>Solution Oriented</td>\n",
       "      <td>5</td>\n",
       "      <td>2</td>\n",
       "    </tr>\n",
       "  </tbody>\n",
       "</table>\n",
       "</div>"
      ],
      "text/plain": [
       "             category  rating  no. of funds\n",
       "0                Debt       0             4\n",
       "1                Debt       1            22\n",
       "2                Debt       2            66\n",
       "3                Debt       3            96\n",
       "4                Debt       4            64\n",
       "5                Debt       5            30\n",
       "6              Equity       0            78\n",
       "7              Equity       1            18\n",
       "8              Equity       2            54\n",
       "9              Equity       3            76\n",
       "10             Equity       4            52\n",
       "11             Equity       5            30\n",
       "12             Hybrid       0             2\n",
       "13             Hybrid       1            10\n",
       "14             Hybrid       2            25\n",
       "15             Hybrid       3            39\n",
       "16             Hybrid       4            27\n",
       "17             Hybrid       5            13\n",
       "18              Other       0            19\n",
       "19              Other       1             4\n",
       "20              Other       2            14\n",
       "21              Other       3            27\n",
       "22              Other       4            12\n",
       "23              Other       5             4\n",
       "24  Solution Oriented       0             5\n",
       "25  Solution Oriented       1             4\n",
       "26  Solution Oriented       2             9\n",
       "27  Solution Oriented       3             5\n",
       "28  Solution Oriented       4             3\n",
       "29  Solution Oriented       5             2"
      ]
     },
     "execution_count": 23,
     "metadata": {},
     "output_type": "execute_result"
    }
   ],
   "source": [
    "# Fetch total number of funds at rating level\n",
    "df3=df.groupby(['category','rating'])['scheme_name'].agg('count')\n",
    "df4 = pd.DataFrame(df3).reset_index().rename(columns={'scheme_name':'no. of funds'})\n",
    "df4"
   ]
  },
  {
   "cell_type": "code",
   "execution_count": 24,
   "id": "032ce36b",
   "metadata": {
    "execution": {
     "iopub.execute_input": "2023-05-02T16:30:54.798585Z",
     "iopub.status.busy": "2023-05-02T16:30:54.797920Z",
     "iopub.status.idle": "2023-05-02T16:30:55.409208Z",
     "shell.execute_reply": "2023-05-02T16:30:55.408058Z"
    },
    "papermill": {
     "duration": 0.632943,
     "end_time": "2023-05-02T16:30:55.411582",
     "exception": false,
     "start_time": "2023-05-02T16:30:54.778639",
     "status": "completed"
    },
    "tags": []
   },
   "outputs": [
    {
     "data": {
      "image/png": "[encoded data removed]",
      "text/plain": [
       "<Figure size 900x500 with 1 Axes>"
      ]
     },
     "metadata": {},
     "output_type": "display_data"
    }
   ],
   "source": [
    "plt.figure(figsize = (9,5))\n",
    "sns.barplot(df4,x='rating',y='no. of funds',hue='category')\n",
    "plt.title('Total funds at Category & Rating level')\n",
    "plt.show()"
   ]
  },
  {
   "cell_type": "code",
   "execution_count": 25,
   "id": "f26a3e7d",
   "metadata": {
    "execution": {
     "iopub.execute_input": "2023-05-02T16:30:55.446983Z",
     "iopub.status.busy": "2023-05-02T16:30:55.446583Z",
     "iopub.status.idle": "2023-05-02T16:30:55.832830Z",
     "shell.execute_reply": "2023-05-02T16:30:55.831617Z"
    },
    "papermill": {
     "duration": 0.406673,
     "end_time": "2023-05-02T16:30:55.835291",
     "exception": false,
     "start_time": "2023-05-02T16:30:55.428618",
     "status": "completed"
    },
    "tags": []
   },
   "outputs": [
    {
     "data": {
      "image/png": "[encoded data removed]",
      "text/plain": [
       "<Figure size 900x500 with 1 Axes>"
      ]
     },
     "metadata": {},
     "output_type": "display_data"
    }
   ],
   "source": [
    "plt.figure(figsize = (9, 5))\n",
    "sns.countplot(x = 'rating', data = df, hue = 'risk_level')\n",
    "plt.title('Count of funds at risk & rating level ')\n",
    "plt.show()"
   ]
  },
  {
   "cell_type": "markdown",
   "id": "d3fe46f7",
   "metadata": {
    "papermill": {
     "duration": 0.016538,
     "end_time": "2023-05-02T16:30:55.868985",
     "exception": false,
     "start_time": "2023-05-02T16:30:55.852447",
     "status": "completed"
    },
    "tags": []
   },
   "source": [
    "## Insights:"
   ]
  },
  {
   "cell_type": "markdown",
   "id": "c02550ec",
   "metadata": {
    "papermill": {
     "duration": 0.017474,
     "end_time": "2023-05-02T16:30:55.903195",
     "exception": false,
     "start_time": "2023-05-02T16:30:55.885721",
     "status": "completed"
    },
    "tags": []
   },
   "source": [
    "From the above charts named below\n",
    "\n",
    "    Fig - 1: 'Fund performance at Rating level'\n",
    "    Fig - 2: 'Total funds at Category & Rating level'\n",
    "    Fig - 3: 'Count of funds at risk & rating level' \n",
    "    \n",
    "    \n",
    "* It can be seen that, in rating 0 funds, 90% of the mutual funds have risk level at 6 i.e. their components are of Very High Risk (Fig - 3), & of Equity category which are also high risk (Fig - 2). \n",
    "\n",
    "* Also from Fig - 1, it's seen that some funds have returned less than 0% in first year i.e. fund was in loss for first year due to which investors would have lost faith at a very early stage itself in the funds even though they would have returned good profit\n",
    "in the 3rd year. Hence, they were rated 0 means not rated itself. But they proved to return highest among other rated funds later.\n",
    "\n",
    "* Hence, it can be advisable to the investors to invest for atleast 3 years in any fund for good returns."
   ]
  }
 ],
 "metadata": {
  "kernelspec": {
   "display_name": "Python 3",
   "language": "python",
   "name": "python3"
  },
  "language_info": {
   "codemirror_mode": {
    "name": "ipython",
    "version": 3
   },
   "file_extension": ".py",
   "mimetype": "text/x-python",
   "name": "python",
   "nbconvert_exporter": "python",
   "pygments_lexer": "ipython3",
   "version": "3.10.8"
  },
  "papermill": {
   "default_parameters": {},
   "duration": 19.358686,
   "end_time": "2023-05-02T16:30:56.846660",
   "environment_variables": {},
   "exception": null,
   "input_path": "__notebook__.ipynb",
   "output_path": "__notebook__.ipynb",
   "parameters": {},
   "start_time": "2023-05-02T16:30:37.487974",
   "version": "2.4.0"
  },
  "widgets": {
   "application/vnd.jupyter.widget-state+json": {
    "state": {
     "04fc53c1e0224d1cb4a6c91ac2ded8ad": {
      "model_module": "@jupyter-widgets/controls",
      "model_module_version": "1.5.0",
      "model_name": "DescriptionStyleModel",
      "state": {
       "_model_module": "@jupyter-widgets/controls",
       "_model_module_version": "1.5.0",
       "_model_name": "DescriptionStyleModel",
       "_view_count": null,
       "_view_module": "@jupyter-widgets/base",
       "_view_module_version": "1.2.0",
       "_view_name": "StyleView",
       "description_width": ""
      }
     },
     "05e3175b34804db1b1bfd7de376677e1": {
      "model_module": "@jupyter-widgets/base",
      "model_module_version": "1.2.0",
      "model_name": "LayoutModel",
      "state": {
       "_model_module": "@jupyter-widgets/base",
       "_model_module_version": "1.2.0",
       "_model_name": "LayoutModel",
       "_view_count": null,
       "_view_module": "@jupyter-widgets/base",
       "_view_module_version": "1.2.0",
       "_view_name": "LayoutView",
       "align_content": null,
       "align_items": null,
       "align_self": null,
       "border": null,
       "bottom": null,
       "display": null,
       "flex": null,
       "flex_flow": null,
       "grid_area": null,
       "grid_auto_columns": null,
       "grid_auto_flow": null,
       "grid_auto_rows": null,
       "grid_column": null,
       "grid_gap": null,
       "grid_row": null,
       "grid_template_areas": null,
       "grid_template_columns": null,
       "grid_template_rows": null,
       "height": null,
       "justify_content": null,
       "justify_items": null,
       "left": null,
       "margin": null,
       "max_height": null,
       "max_width": null,
       "min_height": null,
       "min_width": null,
       "object_fit": null,
       "object_position": null,
       "order": null,
       "overflow": null,
       "overflow_x": null,
       "overflow_y": null,
       "padding": null,
       "right": null,
       "top": null,
       "visibility": null,
       "width": null
      }
     },
     "202735ea62e042aa975f2a73894d023b": {
      "model_module": "@jupyter-widgets/controls",
      "model_module_version": "1.5.0",
      "model_name": "DescriptionStyleModel",
      "state": {
       "_model_module": "@jupyter-widgets/controls",
       "_model_module_version": "1.5.0",
       "_model_name": "DescriptionStyleModel",
       "_view_count": null,
       "_view_module": "@jupyter-widgets/base",
       "_view_module_version": "1.2.0",
       "_view_name": "StyleView",
       "description_width": ""
      }
     },
     "28c077f18b0f45b6abaea4e2593d7a7e": {
      "model_module": "@jupyter-widgets/output",
      "model_module_version": "1.0.0",
      "model_name": "OutputModel",
      "state": {
       "_dom_classes": [],
       "_model_module": "@jupyter-widgets/output",
       "_model_module_version": "1.0.0",
       "_model_name": "OutputModel",
       "_view_count": null,
       "_view_module": "@jupyter-widgets/output",
       "_view_module_version": "1.0.0",
       "_view_name": "OutputView",
       "layout": "IPY_MODEL_e97f2f51d68746f1ac7b08b0bda8e560",
       "msg_id": "",
       "outputs": [
        {
         "name": "stdout",
         "output_type": "stream",
         "text": "Top 10 funds having sd value sorted in descending order listed below:\n"
        },
        {
         "data": {
          "text/html": "<div>\n<style scoped>\n    .dataframe tbody tr th:only-of-type {\n        vertical-align: middle;\n    }\n\n    .dataframe tbody tr th {\n        vertical-align: top;\n    }\n\n    .dataframe thead th {\n        text-align: right;\n    }\n</style>\n<table border=\"1\" class=\"dataframe\">\n  <thead>\n    <tr style=\"text-align: right;\">\n      <th></th>\n      <th>sd</th>\n      <th>overall_return</th>\n      <th>returns_1yr</th>\n      <th>returns_3yr</th>\n      <th>returns_5yr</th>\n      <th>rating</th>\n      <th>sortino</th>\n      <th>alpha</th>\n      <th>beta</th>\n      <th>sharpe</th>\n    </tr>\n    <tr>\n      <th>scheme_name</th>\n      <th></th>\n      <th></th>\n      <th></th>\n      <th></th>\n      <th></th>\n      <th></th>\n      <th></th>\n      <th></th>\n      <th></th>\n      <th></th>\n    </tr>\n  </thead>\n  <tbody>\n    <tr>\n      <th>Bank of India Credit Risk Fund</th>\n      <td>77.72</td>\n      <td>46.5</td>\n      <td>130.8</td>\n      <td>12.8</td>\n      <td>-4.1</td>\n      <td>5</td>\n      <td>0.91</td>\n      <td>-13.360000</td>\n      <td>-31.860000</td>\n      <td>0.38</td>\n    </tr>\n    <tr>\n      <th>DSP World Gold Fund</th>\n      <td>36.51</td>\n      <td>5.3</td>\n      <td>-9.0</td>\n      <td>14.8</td>\n      <td>10.2</td>\n      <td>0</td>\n      <td>1.11</td>\n      <td>2.505635</td>\n      <td>0.822241</td>\n      <td>0.40</td>\n    </tr>\n    <tr>\n      <th>DSP World Mining Fund</th>\n      <td>28.33</td>\n      <td>15.6</td>\n      <td>-5.4</td>\n      <td>37.1</td>\n      <td>15.0</td>\n      <td>0</td>\n      <td>1.68</td>\n      <td>2.505635</td>\n      <td>0.822241</td>\n      <td>1.08</td>\n    </tr>\n    <tr>\n      <th>PGIM India GEO Fund</th>\n      <td>25.79</td>\n      <td>8.4</td>\n      <td>-7.9</td>\n      <td>18.9</td>\n      <td>14.1</td>\n      <td>0</td>\n      <td>1.01</td>\n      <td>2.505635</td>\n      <td>0.822241</td>\n      <td>0.55</td>\n    </tr>\n    <tr>\n      <th>Edelweiss Greater China Equity Off-Shore Fund</th>\n      <td>25.75</td>\n      <td>3.7</td>\n      <td>-4.1</td>\n      <td>9.0</td>\n      <td>6.1</td>\n      <td>0</td>\n      <td>0.60</td>\n      <td>2.505635</td>\n      <td>0.822241</td>\n      <td>0.30</td>\n    </tr>\n    <tr>\n      <th>Aditya Birla SL Banking&amp;Financial Services-DirGrowth</th>\n      <td>25.53</td>\n      <td>13.0</td>\n      <td>5.3</td>\n      <td>24.6</td>\n      <td>9.2</td>\n      <td>2</td>\n      <td>2.07</td>\n      <td>1.240000</td>\n      <td>0.960000</td>\n      <td>0.97</td>\n    </tr>\n    <tr>\n      <th>Motilal Oswal Nifty Bank Index Fund</th>\n      <td>25.40</td>\n      <td>17.9</td>\n      <td>10.8</td>\n      <td>25.0</td>\n      <td>NaN</td>\n      <td>2</td>\n      <td>2.02</td>\n      <td>0.000000</td>\n      <td>1.000000</td>\n      <td>0.95</td>\n    </tr>\n    <tr>\n      <th>Nippon India Banking&amp;Financial Services-DirGrowth</th>\n      <td>24.98</td>\n      <td>15.5</td>\n      <td>8.8</td>\n      <td>28.3</td>\n      <td>9.5</td>\n      <td>3</td>\n      <td>2.22</td>\n      <td>6.010000</td>\n      <td>0.930000</td>\n      <td>1.15</td>\n    </tr>\n    <tr>\n      <th>Quant Small Cap Fund</th>\n      <td>24.75</td>\n      <td>33.3</td>\n      <td>5.4</td>\n      <td>71.4</td>\n      <td>23.2</td>\n      <td>5</td>\n      <td>3.71</td>\n      <td>19.160000</td>\n      <td>0.990000</td>\n      <td>2.11</td>\n    </tr>\n    <tr>\n      <th>UTI-Banking and Financial Services Fund</th>\n      <td>24.46</td>\n      <td>13.1</td>\n      <td>8.2</td>\n      <td>24.4</td>\n      <td>6.7</td>\n      <td>1</td>\n      <td>2.17</td>\n      <td>1.050000</td>\n      <td>0.940000</td>\n      <td>0.98</td>\n    </tr>\n  </tbody>\n</table>\n</div>",
          "text/plain": "                                                       sd  overall_return  \\\nscheme_name                                                                 \nBank of India Credit Risk Fund                      77.72            46.5   \nDSP World Gold Fund                                 36.51             5.3   \nDSP World Mining Fund                               28.33            15.6   \nPGIM India GEO Fund                                 25.79             8.4   \nEdelweiss Greater China Equity Off-Shore Fund       25.75             3.7   \nAditya Birla SL Banking&Financial Services-DirG...  25.53            13.0   \nMotilal Oswal Nifty Bank Index Fund                 25.40            17.9   \nNippon India Banking&Financial Services-DirGrowth   24.98            15.5   \nQuant Small Cap Fund                                24.75            33.3   \nUTI-Banking and Financial Services Fund             24.46            13.1   \n\n                                                    returns_1yr  returns_3yr  \\\nscheme_name                                                                    \nBank of India Credit Risk Fund                            130.8         12.8   \nDSP World Gold Fund                                        -9.0         14.8   \nDSP World Mining Fund                                      -5.4         37.1   \nPGIM India GEO Fund                                        -7.9         18.9   \nEdelweiss Greater China Equity Off-Shore Fund              -4.1          9.0   \nAditya Birla SL Banking&Financial Services-DirG...          5.3         24.6   \nMotilal Oswal Nifty Bank Index Fund                        10.8         25.0   \nNippon India Banking&Financial Services-DirGrowth           8.8         28.3   \nQuant Small Cap Fund                                        5.4         71.4   \nUTI-Banking and Financial Services Fund                     8.2         24.4   \n\n                                                    returns_5yr  rating  \\\nscheme_name                                                               \nBank of India Credit Risk Fund                             -4.1       5   \nDSP World Gold Fund                                        10.2       0   \nDSP World Mining Fund                                      15.0       0   \nPGIM India GEO Fund                                        14.1       0   \nEdelweiss Greater China Equity Off-Shore Fund               6.1       0   \nAditya Birla SL Banking&Financial Services-DirG...          9.2       2   \nMotilal Oswal Nifty Bank Index Fund                         NaN       2   \nNippon India Banking&Financial Services-DirGrowth           9.5       3   \nQuant Small Cap Fund                                       23.2       5   \nUTI-Banking and Financial Services Fund                     6.7       1   \n\n                                                    sortino      alpha  \\\nscheme_name                                                              \nBank of India Credit Risk Fund                         0.91 -13.360000   \nDSP World Gold Fund                                    1.11   2.505635   \nDSP World Mining Fund                                  1.68   2.505635   \nPGIM India GEO Fund                                    1.01   2.505635   \nEdelweiss Greater China Equity Off-Shore Fund          0.60   2.505635   \nAditya Birla SL Banking&Financial Services-DirG...     2.07   1.240000   \nMotilal Oswal Nifty Bank Index Fund                    2.02   0.000000   \nNippon India Banking&Financial Services-DirGrowth      2.22   6.010000   \nQuant Small Cap Fund                                   3.71  19.160000   \nUTI-Banking and Financial Services Fund                2.17   1.050000   \n\n                                                         beta  sharpe  \nscheme_name                                                            \nBank of India Credit Risk Fund                     -31.860000    0.38  \nDSP World Gold Fund                                  0.822241    0.40  \nDSP World Mining Fund                                0.822241    1.08  \nPGIM India GEO Fund                                  0.822241    0.55  \nEdelweiss Greater China Equity Off-Shore Fund        0.822241    0.30  \nAditya Birla SL Banking&Financial Services-DirG...   0.960000    0.97  \nMotilal Oswal Nifty Bank Index Fund                  1.000000    0.95  \nNippon India Banking&Financial Services-DirGrowth    0.930000    1.15  \nQuant Small Cap Fund                                 0.990000    2.11  \nUTI-Banking and Financial Services Fund              0.940000    0.98  "
         },
         "metadata": {},
         "output_type": "display_data"
        }
       ]
      }
     },
     "2fb4db1b1861421287ba917d81cc5337": {
      "model_module": "@jupyter-widgets/output",
      "model_module_version": "1.0.0",
      "model_name": "OutputModel",
      "state": {
       "_dom_classes": [],
       "_model_module": "@jupyter-widgets/output",
       "_model_module_version": "1.0.0",
       "_model_name": "OutputModel",
       "_view_count": null,
       "_view_module": "@jupyter-widgets/output",
       "_view_module_version": "1.0.0",
       "_view_name": "OutputView",
       "layout": "IPY_MODEL_6dc7cd5c5d3040f38ce042ead5203a89",
       "msg_id": "",
       "outputs": [
        {
         "name": "stdout",
         "output_type": "stream",
         "text": "79 funds found: \nTop 10 funds giving rating 5 listed below:\n"
        },
        {
         "data": {
          "text/html": "<div>\n<style scoped>\n    .dataframe tbody tr th:only-of-type {\n        vertical-align: middle;\n    }\n\n    .dataframe tbody tr th {\n        vertical-align: top;\n    }\n\n    .dataframe thead th {\n        text-align: right;\n    }\n</style>\n<table border=\"1\" class=\"dataframe\">\n  <thead>\n    <tr style=\"text-align: right;\">\n      <th></th>\n      <th>rating</th>\n      <th>returns_1yr</th>\n      <th>returns_3yr</th>\n      <th>returns_5yr</th>\n      <th>overall_return</th>\n      <th>fund_size_cr</th>\n      <th>fund_age_yr</th>\n      <th>sortino</th>\n      <th>alpha</th>\n      <th>sd</th>\n      <th>beta</th>\n      <th>sharpe</th>\n    </tr>\n    <tr>\n      <th>scheme_name</th>\n      <th></th>\n      <th></th>\n      <th></th>\n      <th></th>\n      <th></th>\n      <th></th>\n      <th></th>\n      <th></th>\n      <th></th>\n      <th></th>\n      <th></th>\n      <th></th>\n    </tr>\n  </thead>\n  <tbody>\n    <tr>\n      <th>Bank of India Credit Risk Fund</th>\n      <td>5</td>\n      <td>130.8</td>\n      <td>12.8</td>\n      <td>-4.1</td>\n      <td>46.5</td>\n      <td>161.0</td>\n      <td>8</td>\n      <td>0.91</td>\n      <td>-13.36</td>\n      <td>77.72</td>\n      <td>-31.86</td>\n      <td>0.38</td>\n    </tr>\n    <tr>\n      <th>Quant Small Cap Fund</th>\n      <td>5</td>\n      <td>5.4</td>\n      <td>71.4</td>\n      <td>23.2</td>\n      <td>33.3</td>\n      <td>3301.0</td>\n      <td>10</td>\n      <td>3.71</td>\n      <td>19.16</td>\n      <td>24.75</td>\n      <td>0.99</td>\n      <td>2.11</td>\n    </tr>\n    <tr>\n      <th>Quant Infrastructure Fund</th>\n      <td>5</td>\n      <td>5.6</td>\n      <td>61.5</td>\n      <td>21.1</td>\n      <td>29.4</td>\n      <td>822.0</td>\n      <td>10</td>\n      <td>3.44</td>\n      <td>27.24</td>\n      <td>19.24</td>\n      <td>0.53</td>\n      <td>2.30</td>\n    </tr>\n    <tr>\n      <th>ICICI Pru BHARAT 22 FOF  – Direct Growth</th>\n      <td>5</td>\n      <td>22.1</td>\n      <td>35.0</td>\n      <td>NaN</td>\n      <td>28.6</td>\n      <td>89.0</td>\n      <td>5</td>\n      <td>2.76</td>\n      <td>9.68</td>\n      <td>20.20</td>\n      <td>0.88</td>\n      <td>1.47</td>\n    </tr>\n    <tr>\n      <th>ICICI Pru Infrastructure Fund</th>\n      <td>5</td>\n      <td>24.3</td>\n      <td>44.0</td>\n      <td>15.1</td>\n      <td>27.8</td>\n      <td>2269.0</td>\n      <td>10</td>\n      <td>4.04</td>\n      <td>11.76</td>\n      <td>20.09</td>\n      <td>0.78</td>\n      <td>1.83</td>\n    </tr>\n    <tr>\n      <th>Quant Tax Plan- Direct Growth</th>\n      <td>5</td>\n      <td>0.9</td>\n      <td>54.9</td>\n      <td>22.2</td>\n      <td>26.0</td>\n      <td>2779.0</td>\n      <td>10</td>\n      <td>3.50</td>\n      <td>17.63</td>\n      <td>19.74</td>\n      <td>0.96</td>\n      <td>2.03</td>\n    </tr>\n    <tr>\n      <th>Canara Robeco Small Cap Fund</th>\n      <td>5</td>\n      <td>-0.6</td>\n      <td>51.8</td>\n      <td>NaN</td>\n      <td>25.6</td>\n      <td>4831.0</td>\n      <td>4</td>\n      <td>4.62</td>\n      <td>12.23</td>\n      <td>17.75</td>\n      <td>0.79</td>\n      <td>2.17</td>\n    </tr>\n    <tr>\n      <th>SBI Contra Fund</th>\n      <td>5</td>\n      <td>15.0</td>\n      <td>43.4</td>\n      <td>15.6</td>\n      <td>24.7</td>\n      <td>8340.0</td>\n      <td>10</td>\n      <td>4.43</td>\n      <td>15.26</td>\n      <td>16.56</td>\n      <td>0.89</td>\n      <td>2.13</td>\n    </tr>\n    <tr>\n      <th>Quant Multi Asset Fund</th>\n      <td>5</td>\n      <td>10.6</td>\n      <td>42.6</td>\n      <td>20.5</td>\n      <td>24.6</td>\n      <td>634.0</td>\n      <td>10</td>\n      <td>3.23</td>\n      <td>19.52</td>\n      <td>18.63</td>\n      <td>0.75</td>\n      <td>1.79</td>\n    </tr>\n    <tr>\n      <th>Quant Mid Cap Fund</th>\n      <td>5</td>\n      <td>8.8</td>\n      <td>45.1</td>\n      <td>19.8</td>\n      <td>24.6</td>\n      <td>1550.0</td>\n      <td>10</td>\n      <td>3.58</td>\n      <td>11.21</td>\n      <td>18.73</td>\n      <td>0.86</td>\n      <td>1.95</td>\n    </tr>\n  </tbody>\n</table>\n</div>",
          "text/plain": "                                          rating  returns_1yr  returns_3yr  \\\nscheme_name                                                                  \nBank of India Credit Risk Fund                 5        130.8         12.8   \nQuant Small Cap Fund                           5          5.4         71.4   \nQuant Infrastructure Fund                      5          5.6         61.5   \nICICI Pru BHARAT 22 FOF  – Direct Growth       5         22.1         35.0   \nICICI Pru Infrastructure Fund                  5         24.3         44.0   \nQuant Tax Plan- Direct Growth                  5          0.9         54.9   \nCanara Robeco Small Cap Fund                   5         -0.6         51.8   \nSBI Contra Fund                                5         15.0         43.4   \nQuant Multi Asset Fund                         5         10.6         42.6   \nQuant Mid Cap Fund                             5          8.8         45.1   \n\n                                          returns_5yr  overall_return  \\\nscheme_name                                                             \nBank of India Credit Risk Fund                   -4.1            46.5   \nQuant Small Cap Fund                             23.2            33.3   \nQuant Infrastructure Fund                        21.1            29.4   \nICICI Pru BHARAT 22 FOF  – Direct Growth          NaN            28.6   \nICICI Pru Infrastructure Fund                    15.1            27.8   \nQuant Tax Plan- Direct Growth                    22.2            26.0   \nCanara Robeco Small Cap Fund                      NaN            25.6   \nSBI Contra Fund                                  15.6            24.7   \nQuant Multi Asset Fund                           20.5            24.6   \nQuant Mid Cap Fund                               19.8            24.6   \n\n                                          fund_size_cr  fund_age_yr  sortino  \\\nscheme_name                                                                    \nBank of India Credit Risk Fund                   161.0            8     0.91   \nQuant Small Cap Fund                            3301.0           10     3.71   \nQuant Infrastructure Fund                        822.0           10     3.44   \nICICI Pru BHARAT 22 FOF  – Direct Growth          89.0            5     2.76   \nICICI Pru Infrastructure Fund                   2269.0           10     4.04   \nQuant Tax Plan- Direct Growth                   2779.0           10     3.50   \nCanara Robeco Small Cap Fund                    4831.0            4     4.62   \nSBI Contra Fund                                 8340.0           10     4.43   \nQuant Multi Asset Fund                           634.0           10     3.23   \nQuant Mid Cap Fund                              1550.0           10     3.58   \n\n                                          alpha     sd   beta  sharpe  \nscheme_name                                                            \nBank of India Credit Risk Fund           -13.36  77.72 -31.86    0.38  \nQuant Small Cap Fund                      19.16  24.75   0.99    2.11  \nQuant Infrastructure Fund                 27.24  19.24   0.53    2.30  \nICICI Pru BHARAT 22 FOF  – Direct Growth   9.68  20.20   0.88    1.47  \nICICI Pru Infrastructure Fund             11.76  20.09   0.78    1.83  \nQuant Tax Plan- Direct Growth             17.63  19.74   0.96    2.03  \nCanara Robeco Small Cap Fund              12.23  17.75   0.79    2.17  \nSBI Contra Fund                           15.26  16.56   0.89    2.13  \nQuant Multi Asset Fund                    19.52  18.63   0.75    1.79  \nQuant Mid Cap Fund                        11.21  18.73   0.86    1.95  "
         },
         "metadata": {},
         "output_type": "display_data"
        }
       ]
      }
     },
     "3229a25549514710bb1040d7f4e92b3e": {
      "model_module": "@jupyter-widgets/controls",
      "model_module_version": "1.5.0",
      "model_name": "VBoxModel",
      "state": {
       "_dom_classes": [
        "widget-interact"
       ],
       "_model_module": "@jupyter-widgets/controls",
       "_model_module_version": "1.5.0",
       "_model_name": "VBoxModel",
       "_view_count": null,
       "_view_module": "@jupyter-widgets/controls",
       "_view_module_version": "1.5.0",
       "_view_name": "VBoxView",
       "box_style": "",
       "children": [
        "IPY_MODEL_76d3445d0d1242388fb59d11d6c580f4",
        "IPY_MODEL_5e85104d2ecc4d9a95e9c0dfea14620f",
        "IPY_MODEL_2fb4db1b1861421287ba917d81cc5337"
       ],
       "layout": "IPY_MODEL_05e3175b34804db1b1bfd7de376677e1"
      }
     },
     "565e6e99915240c184c8177d8679d4dd": {
      "model_module": "@jupyter-widgets/controls",
      "model_module_version": "1.5.0",
      "model_name": "VBoxModel",
      "state": {
       "_dom_classes": [
        "widget-interact"
       ],
       "_model_module": "@jupyter-widgets/controls",
       "_model_module_version": "1.5.0",
       "_model_name": "VBoxModel",
       "_view_count": null,
       "_view_module": "@jupyter-widgets/controls",
       "_view_module_version": "1.5.0",
       "_view_name": "VBoxView",
       "box_style": "",
       "children": [
        "IPY_MODEL_894ed1bd7f5c456fbf5b89c28857367e",
        "IPY_MODEL_28c077f18b0f45b6abaea4e2593d7a7e"
       ],
       "layout": "IPY_MODEL_76e4e18ef8064d9b9f4f2fe6ec0dee7d"
      }
     },
     "56e8ac8728b54f69bac9b104a51c5295": {
      "model_module": "@jupyter-widgets/controls",
      "model_module_version": "1.5.0",
      "model_name": "DropdownModel",
      "state": {
       "_dom_classes": [],
       "_model_module": "@jupyter-widgets/controls",
       "_model_module_version": "1.5.0",
       "_model_name": "DropdownModel",
       "_options_labels": [
        "Less than 10%",
        "10% to 20%",
        "Higher than 20%"
       ],
       "_view_count": null,
       "_view_module": "@jupyter-widgets/controls",
       "_view_module_version": "1.5.0",
       "_view_name": "DropdownView",
       "description": "return_group",
       "description_tooltip": null,
       "disabled": false,
       "index": 0,
       "layout": "IPY_MODEL_a245967cc06d4b168045d23047653d14",
       "style": "IPY_MODEL_e6a03142e52e47e7925dbd7fe15e0216"
      }
     },
     "5e85104d2ecc4d9a95e9c0dfea14620f": {
      "model_module": "@jupyter-widgets/controls",
      "model_module_version": "1.5.0",
      "model_name": "DropdownModel",
      "state": {
       "_dom_classes": [],
       "_model_module": "@jupyter-widgets/controls",
       "_model_module_version": "1.5.0",
       "_model_name": "DropdownModel",
       "_options_labels": [
        "10",
        "20",
        "30",
        "40",
        "50",
        "100",
        "500"
       ],
       "_view_count": null,
       "_view_module": "@jupyter-widgets/controls",
       "_view_module_version": "1.5.0",
       "_view_name": "DropdownView",
       "description": "Top",
       "description_tooltip": null,
       "disabled": false,
       "index": 0,
       "layout": "IPY_MODEL_c97275e490f74b76adb83a129af42bdf",
       "style": "IPY_MODEL_c57d61194b934a899455dbfcc8c317c0"
      }
     },
     "6229cda6a0524631913d7d78c64af85e": {
      "model_module": "@jupyter-widgets/base",
      "model_module_version": "1.2.0",
      "model_name": "LayoutModel",
      "state": {
       "_model_module": "@jupyter-widgets/base",
       "_model_module_version": "1.2.0",
       "_model_name": "LayoutModel",
       "_view_count": null,
       "_view_module": "@jupyter-widgets/base",
       "_view_module_version": "1.2.0",
       "_view_name": "LayoutView",
       "align_content": null,
       "align_items": null,
       "align_self": null,
       "border": null,
       "bottom": null,
       "display": null,
       "flex": null,
       "flex_flow": null,
       "grid_area": null,
       "grid_auto_columns": null,
       "grid_auto_flow": null,
       "grid_auto_rows": null,
       "grid_column": null,
       "grid_gap": null,
       "grid_row": null,
       "grid_template_areas": null,
       "grid_template_columns": null,
       "grid_template_rows": null,
       "height": null,
       "justify_content": null,
       "justify_items": null,
       "left": null,
       "margin": null,
       "max_height": null,
       "max_width": null,
       "min_height": null,
       "min_width": null,
       "object_fit": null,
       "object_position": null,
       "order": null,
       "overflow": null,
       "overflow_x": null,
       "overflow_y": null,
       "padding": null,
       "right": null,
       "top": null,
       "visibility": null,
       "width": null
      }
     },
     "697a3613316e42d49eec3f1360618f62": {
      "model_module": "@jupyter-widgets/base",
      "model_module_version": "1.2.0",
      "model_name": "LayoutModel",
      "state": {
       "_model_module": "@jupyter-widgets/base",
       "_model_module_version": "1.2.0",
       "_model_name": "LayoutModel",
       "_view_count": null,
       "_view_module": "@jupyter-widgets/base",
       "_view_module_version": "1.2.0",
       "_view_name": "LayoutView",
       "align_content": null,
       "align_items": null,
       "align_self": null,
       "border": null,
       "bottom": null,
       "display": null,
       "flex": null,
       "flex_flow": null,
       "grid_area": null,
       "grid_auto_columns": null,
       "grid_auto_flow": null,
       "grid_auto_rows": null,
       "grid_column": null,
       "grid_gap": null,
       "grid_row": null,
       "grid_template_areas": null,
       "grid_template_columns": null,
       "grid_template_rows": null,
       "height": null,
       "justify_content": null,
       "justify_items": null,
       "left": null,
       "margin": null,
       "max_height": null,
       "max_width": null,
       "min_height": null,
       "min_width": null,
       "object_fit": null,
       "object_position": null,
       "order": null,
       "overflow": null,
       "overflow_x": null,
       "overflow_y": null,
       "padding": null,
       "right": null,
       "top": null,
       "visibility": null,
       "width": null
      }
     },
     "6dc7cd5c5d3040f38ce042ead5203a89": {
      "model_module": "@jupyter-widgets/base",
      "model_module_version": "1.2.0",
      "model_name": "LayoutModel",
      "state": {
       "_model_module": "@jupyter-widgets/base",
       "_model_module_version": "1.2.0",
       "_model_name": "LayoutModel",
       "_view_count": null,
       "_view_module": "@jupyter-widgets/base",
       "_view_module_version": "1.2.0",
       "_view_name": "LayoutView",
       "align_content": null,
       "align_items": null,
       "align_self": null,
       "border": null,
       "bottom": null,
       "display": null,
       "flex": null,
       "flex_flow": null,
       "grid_area": null,
       "grid_auto_columns": null,
       "grid_auto_flow": null,
       "grid_auto_rows": null,
       "grid_column": null,
       "grid_gap": null,
       "grid_row": null,
       "grid_template_areas": null,
       "grid_template_columns": null,
       "grid_template_rows": null,
       "height": null,
       "justify_content": null,
       "justify_items": null,
       "left": null,
       "margin": null,
       "max_height": null,
       "max_width": null,
       "min_height": null,
       "min_width": null,
       "object_fit": null,
       "object_position": null,
       "order": null,
       "overflow": null,
       "overflow_x": null,
       "overflow_y": null,
       "padding": null,
       "right": null,
       "top": null,
       "visibility": null,
       "width": null
      }
     },
     "76d3445d0d1242388fb59d11d6c580f4": {
      "model_module": "@jupyter-widgets/controls",
      "model_module_version": "1.5.0",
      "model_name": "DropdownModel",
      "state": {
       "_dom_classes": [],
       "_model_module": "@jupyter-widgets/controls",
       "_model_module_version": "1.5.0",
       "_model_name": "DropdownModel",
       "_options_labels": [
        "5",
        "4",
        "3",
        "2",
        "1",
        "0"
       ],
       "_view_count": null,
       "_view_module": "@jupyter-widgets/controls",
       "_view_module_version": "1.5.0",
       "_view_name": "DropdownView",
       "description": "rating",
       "description_tooltip": null,
       "disabled": false,
       "index": 0,
       "layout": "IPY_MODEL_e9ecbc0f824d4113b565e4d4664f9f66",
       "style": "IPY_MODEL_04fc53c1e0224d1cb4a6c91ac2ded8ad"
      }
     },
     "76e4e18ef8064d9b9f4f2fe6ec0dee7d": {
      "model_module": "@jupyter-widgets/base",
      "model_module_version": "1.2.0",
      "model_name": "LayoutModel",
      "state": {
       "_model_module": "@jupyter-widgets/base",
       "_model_module_version": "1.2.0",
       "_model_name": "LayoutModel",
       "_view_count": null,
       "_view_module": "@jupyter-widgets/base",
       "_view_module_version": "1.2.0",
       "_view_name": "LayoutView",
       "align_content": null,
       "align_items": null,
       "align_self": null,
       "border": null,
       "bottom": null,
       "display": null,
       "flex": null,
       "flex_flow": null,
       "grid_area": null,
       "grid_auto_columns": null,
       "grid_auto_flow": null,
       "grid_auto_rows": null,
       "grid_column": null,
       "grid_gap": null,
       "grid_row": null,
       "grid_template_areas": null,
       "grid_template_columns": null,
       "grid_template_rows": null,
       "height": null,
       "justify_content": null,
       "justify_items": null,
       "left": null,
       "margin": null,
       "max_height": null,
       "max_width": null,
       "min_height": null,
       "min_width": null,
       "object_fit": null,
       "object_position": null,
       "order": null,
       "overflow": null,
       "overflow_x": null,
       "overflow_y": null,
       "padding": null,
       "right": null,
       "top": null,
       "visibility": null,
       "width": null
      }
     },
     "89150156f849416398efe79a67439718": {
      "model_module": "@jupyter-widgets/controls",
      "model_module_version": "1.5.0",
      "model_name": "DropdownModel",
      "state": {
       "_dom_classes": [],
       "_model_module": "@jupyter-widgets/controls",
       "_model_module_version": "1.5.0",
       "_model_name": "DropdownModel",
       "_options_labels": [
        "10",
        "20",
        "30",
        "40",
        "50",
        "100",
        "500"
       ],
       "_view_count": null,
       "_view_module": "@jupyter-widgets/controls",
       "_view_module_version": "1.5.0",
       "_view_name": "DropdownView",
       "description": "Top",
       "description_tooltip": null,
       "disabled": false,
       "index": 0,
       "layout": "IPY_MODEL_697a3613316e42d49eec3f1360618f62",
       "style": "IPY_MODEL_b0a32b82d7c741c4bb74f5426d195dc9"
      }
     },
     "894ed1bd7f5c456fbf5b89c28857367e": {
      "model_module": "@jupyter-widgets/controls",
      "model_module_version": "1.5.0",
      "model_name": "DropdownModel",
      "state": {
       "_dom_classes": [],
       "_model_module": "@jupyter-widgets/controls",
       "_model_module_version": "1.5.0",
       "_model_name": "DropdownModel",
       "_options_labels": [
        "10",
        "20",
        "30",
        "40",
        "50"
       ],
       "_view_count": null,
       "_view_module": "@jupyter-widgets/controls",
       "_view_module_version": "1.5.0",
       "_view_name": "DropdownView",
       "description": "Top",
       "description_tooltip": null,
       "disabled": false,
       "index": 0,
       "layout": "IPY_MODEL_6229cda6a0524631913d7d78c64af85e",
       "style": "IPY_MODEL_202735ea62e042aa975f2a73894d023b"
      }
     },
     "a245967cc06d4b168045d23047653d14": {
      "model_module": "@jupyter-widgets/base",
      "model_module_version": "1.2.0",
      "model_name": "LayoutModel",
      "state": {
       "_model_module": "@jupyter-widgets/base",
       "_model_module_version": "1.2.0",
       "_model_name": "LayoutModel",
       "_view_count": null,
       "_view_module": "@jupyter-widgets/base",
       "_view_module_version": "1.2.0",
       "_view_name": "LayoutView",
       "align_content": null,
       "align_items": null,
       "align_self": null,
       "border": null,
       "bottom": null,
       "display": null,
       "flex": null,
       "flex_flow": null,
       "grid_area": null,
       "grid_auto_columns": null,
       "grid_auto_flow": null,
       "grid_auto_rows": null,
       "grid_column": null,
       "grid_gap": null,
       "grid_row": null,
       "grid_template_areas": null,
       "grid_template_columns": null,
       "grid_template_rows": null,
       "height": null,
       "justify_content": null,
       "justify_items": null,
       "left": null,
       "margin": null,
       "max_height": null,
       "max_width": null,
       "min_height": null,
       "min_width": null,
       "object_fit": null,
       "object_position": null,
       "order": null,
       "overflow": null,
       "overflow_x": null,
       "overflow_y": null,
       "padding": null,
       "right": null,
       "top": null,
       "visibility": null,
       "width": null
      }
     },
     "aaae1f51178542d78addc6071f44cdf9": {
      "model_module": "@jupyter-widgets/base",
      "model_module_version": "1.2.0",
      "model_name": "LayoutModel",
      "state": {
       "_model_module": "@jupyter-widgets/base",
       "_model_module_version": "1.2.0",
       "_model_name": "LayoutModel",
       "_view_count": null,
       "_view_module": "@jupyter-widgets/base",
       "_view_module_version": "1.2.0",
       "_view_name": "LayoutView",
       "align_content": null,
       "align_items": null,
       "align_self": null,
       "border": null,
       "bottom": null,
       "display": null,
       "flex": null,
       "flex_flow": null,
       "grid_area": null,
       "grid_auto_columns": null,
       "grid_auto_flow": null,
       "grid_auto_rows": null,
       "grid_column": null,
       "grid_gap": null,
       "grid_row": null,
       "grid_template_areas": null,
       "grid_template_columns": null,
       "grid_template_rows": null,
       "height": null,
       "justify_content": null,
       "justify_items": null,
       "left": null,
       "margin": null,
       "max_height": null,
       "max_width": null,
       "min_height": null,
       "min_width": null,
       "object_fit": null,
       "object_position": null,
       "order": null,
       "overflow": null,
       "overflow_x": null,
       "overflow_y": null,
       "padding": null,
       "right": null,
       "top": null,
       "visibility": null,
       "width": null
      }
     },
     "af616de0ecbd42ee8ac603e825f846b9": {
      "model_module": "@jupyter-widgets/base",
      "model_module_version": "1.2.0",
      "model_name": "LayoutModel",
      "state": {
       "_model_module": "@jupyter-widgets/base",
       "_model_module_version": "1.2.0",
       "_model_name": "LayoutModel",
       "_view_count": null,
       "_view_module": "@jupyter-widgets/base",
       "_view_module_version": "1.2.0",
       "_view_name": "LayoutView",
       "align_content": null,
       "align_items": null,
       "align_self": null,
       "border": null,
       "bottom": null,
       "display": null,
       "flex": null,
       "flex_flow": null,
       "grid_area": null,
       "grid_auto_columns": null,
       "grid_auto_flow": null,
       "grid_auto_rows": null,
       "grid_column": null,
       "grid_gap": null,
       "grid_row": null,
       "grid_template_areas": null,
       "grid_template_columns": null,
       "grid_template_rows": null,
       "height": null,
       "justify_content": null,
       "justify_items": null,
       "left": null,
       "margin": null,
       "max_height": null,
       "max_width": null,
       "min_height": null,
       "min_width": null,
       "object_fit": null,
       "object_position": null,
       "order": null,
       "overflow": null,
       "overflow_x": null,
       "overflow_y": null,
       "padding": null,
       "right": null,
       "top": null,
       "visibility": null,
       "width": null
      }
     },
     "b0a32b82d7c741c4bb74f5426d195dc9": {
      "model_module": "@jupyter-widgets/controls",
      "model_module_version": "1.5.0",
      "model_name": "DescriptionStyleModel",
      "state": {
       "_model_module": "@jupyter-widgets/controls",
       "_model_module_version": "1.5.0",
       "_model_name": "DescriptionStyleModel",
       "_view_count": null,
       "_view_module": "@jupyter-widgets/base",
       "_view_module_version": "1.2.0",
       "_view_name": "StyleView",
       "description_width": ""
      }
     },
     "c57d61194b934a899455dbfcc8c317c0": {
      "model_module": "@jupyter-widgets/controls",
      "model_module_version": "1.5.0",
      "model_name": "DescriptionStyleModel",
      "state": {
       "_model_module": "@jupyter-widgets/controls",
       "_model_module_version": "1.5.0",
       "_model_name": "DescriptionStyleModel",
       "_view_count": null,
       "_view_module": "@jupyter-widgets/base",
       "_view_module_version": "1.2.0",
       "_view_name": "StyleView",
       "description_width": ""
      }
     },
     "c97275e490f74b76adb83a129af42bdf": {
      "model_module": "@jupyter-widgets/base",
      "model_module_version": "1.2.0",
      "model_name": "LayoutModel",
      "state": {
       "_model_module": "@jupyter-widgets/base",
       "_model_module_version": "1.2.0",
       "_model_name": "LayoutModel",
       "_view_count": null,
       "_view_module": "@jupyter-widgets/base",
       "_view_module_version": "1.2.0",
       "_view_name": "LayoutView",
       "align_content": null,
       "align_items": null,
       "align_self": null,
       "border": null,
       "bottom": null,
       "display": null,
       "flex": null,
       "flex_flow": null,
       "grid_area": null,
       "grid_auto_columns": null,
       "grid_auto_flow": null,
       "grid_auto_rows": null,
       "grid_column": null,
       "grid_gap": null,
       "grid_row": null,
       "grid_template_areas": null,
       "grid_template_columns": null,
       "grid_template_rows": null,
       "height": null,
       "justify_content": null,
       "justify_items": null,
       "left": null,
       "margin": null,
       "max_height": null,
       "max_width": null,
       "min_height": null,
       "min_width": null,
       "object_fit": null,
       "object_position": null,
       "order": null,
       "overflow": null,
       "overflow_x": null,
       "overflow_y": null,
       "padding": null,
       "right": null,
       "top": null,
       "visibility": null,
       "width": null
      }
     },
     "cfcd8611e2e74b44b6e02eab17f855b0": {
      "model_module": "@jupyter-widgets/output",
      "model_module_version": "1.0.0",
      "model_name": "OutputModel",
      "state": {
       "_dom_classes": [],
       "_model_module": "@jupyter-widgets/output",
       "_model_module_version": "1.0.0",
       "_model_name": "OutputModel",
       "_view_count": null,
       "_view_module": "@jupyter-widgets/output",
       "_view_module_version": "1.0.0",
       "_view_name": "OutputView",
       "layout": "IPY_MODEL_af616de0ecbd42ee8ac603e825f846b9",
       "msg_id": "",
       "outputs": [
        {
         "name": "stdout",
         "output_type": "stream",
         "text": "427 funds found: \nTop 10 funds giving returns Less than 10% listed below:\n"
        },
        {
         "data": {
          "text/html": "<div>\n<style scoped>\n    .dataframe tbody tr th:only-of-type {\n        vertical-align: middle;\n    }\n\n    .dataframe tbody tr th {\n        vertical-align: top;\n    }\n\n    .dataframe thead th {\n        text-align: right;\n    }\n</style>\n<table border=\"1\" class=\"dataframe\">\n  <thead>\n    <tr style=\"text-align: right;\">\n      <th></th>\n      <th>returns_1yr</th>\n      <th>returns_3yr</th>\n      <th>returns_5yr</th>\n      <th>overall_return</th>\n    </tr>\n    <tr>\n      <th>scheme_name</th>\n      <th></th>\n      <th></th>\n      <th></th>\n      <th></th>\n    </tr>\n  </thead>\n  <tbody>\n    <tr>\n      <th>DSP Equity &amp; Bond Fund</th>\n      <td>0.6</td>\n      <td>18.7</td>\n      <td>10.7</td>\n      <td>10.0</td>\n    </tr>\n    <tr>\n      <th>IDBI Midcap Fund</th>\n      <td>-2.9</td>\n      <td>25.1</td>\n      <td>7.7</td>\n      <td>10.0</td>\n    </tr>\n    <tr>\n      <th>UTI-Retirement Benefit Pension Plan – Direct</th>\n      <td>5.2</td>\n      <td>17.2</td>\n      <td>7.5</td>\n      <td>10.0</td>\n    </tr>\n    <tr>\n      <th>AXIS Growth Opportunities Fund</th>\n      <td>-6.4</td>\n      <td>26.5</td>\n      <td>NaN</td>\n      <td>10.0</td>\n    </tr>\n    <tr>\n      <th>HDFC Equity Savings Fund</th>\n      <td>5.1</td>\n      <td>16.0</td>\n      <td>8.8</td>\n      <td>10.0</td>\n    </tr>\n    <tr>\n      <th>ICICI Pru Income Optimizer Fund</th>\n      <td>7.8</td>\n      <td>13.3</td>\n      <td>8.8</td>\n      <td>10.0</td>\n    </tr>\n    <tr>\n      <th>SBI Magnum Comma Fund</th>\n      <td>-12.1</td>\n      <td>30.9</td>\n      <td>11.3</td>\n      <td>10.0</td>\n    </tr>\n    <tr>\n      <th>ICICI Pru Child Care Fund</th>\n      <td>1.0</td>\n      <td>19.8</td>\n      <td>8.8</td>\n      <td>9.9</td>\n    </tr>\n    <tr>\n      <th>Mirae Asset Equity Savings Fund</th>\n      <td>3.7</td>\n      <td>16.1</td>\n      <td>NaN</td>\n      <td>9.9</td>\n    </tr>\n    <tr>\n      <th>UTI-Dynamic Bond Fund</th>\n      <td>12.5</td>\n      <td>11.0</td>\n      <td>6.3</td>\n      <td>9.9</td>\n    </tr>\n  </tbody>\n</table>\n</div>",
          "text/plain": "                                              returns_1yr  returns_3yr  \\\nscheme_name                                                              \nDSP Equity & Bond Fund                                0.6         18.7   \nIDBI Midcap Fund                                     -2.9         25.1   \nUTI-Retirement Benefit Pension Plan – Direct          5.2         17.2   \nAXIS Growth Opportunities Fund                       -6.4         26.5   \nHDFC Equity Savings Fund                              5.1         16.0   \nICICI Pru Income Optimizer Fund                       7.8         13.3   \nSBI Magnum Comma Fund                               -12.1         30.9   \nICICI Pru Child Care Fund                             1.0         19.8   \nMirae Asset Equity Savings Fund                       3.7         16.1   \nUTI-Dynamic Bond Fund                                12.5         11.0   \n\n                                              returns_5yr  overall_return  \nscheme_name                                                                \nDSP Equity & Bond Fund                               10.7            10.0  \nIDBI Midcap Fund                                      7.7            10.0  \nUTI-Retirement Benefit Pension Plan – Direct          7.5            10.0  \nAXIS Growth Opportunities Fund                        NaN            10.0  \nHDFC Equity Savings Fund                              8.8            10.0  \nICICI Pru Income Optimizer Fund                       8.8            10.0  \nSBI Magnum Comma Fund                                11.3            10.0  \nICICI Pru Child Care Fund                             8.8             9.9  \nMirae Asset Equity Savings Fund                       NaN             9.9  \nUTI-Dynamic Bond Fund                                 6.3             9.9  "
         },
         "metadata": {},
         "output_type": "display_data"
        }
       ]
      }
     },
     "d52905040d944edfb3ce3c1f0a81e6a2": {
      "model_module": "@jupyter-widgets/controls",
      "model_module_version": "1.5.0",
      "model_name": "VBoxModel",
      "state": {
       "_dom_classes": [
        "widget-interact"
       ],
       "_model_module": "@jupyter-widgets/controls",
       "_model_module_version": "1.5.0",
       "_model_name": "VBoxModel",
       "_view_count": null,
       "_view_module": "@jupyter-widgets/controls",
       "_view_module_version": "1.5.0",
       "_view_name": "VBoxView",
       "box_style": "",
       "children": [
        "IPY_MODEL_56e8ac8728b54f69bac9b104a51c5295",
        "IPY_MODEL_89150156f849416398efe79a67439718",
        "IPY_MODEL_cfcd8611e2e74b44b6e02eab17f855b0"
       ],
       "layout": "IPY_MODEL_aaae1f51178542d78addc6071f44cdf9"
      }
     },
     "e6a03142e52e47e7925dbd7fe15e0216": {
      "model_module": "@jupyter-widgets/controls",
      "model_module_version": "1.5.0",
      "model_name": "DescriptionStyleModel",
      "state": {
       "_model_module": "@jupyter-widgets/controls",
       "_model_module_version": "1.5.0",
       "_model_name": "DescriptionStyleModel",
       "_view_count": null,
       "_view_module": "@jupyter-widgets/base",
       "_view_module_version": "1.2.0",
       "_view_name": "StyleView",
       "description_width": ""
      }
     },
     "e97f2f51d68746f1ac7b08b0bda8e560": {
      "model_module": "@jupyter-widgets/base",
      "model_module_version": "1.2.0",
      "model_name": "LayoutModel",
      "state": {
       "_model_module": "@jupyter-widgets/base",
       "_model_module_version": "1.2.0",
       "_model_name": "LayoutModel",
       "_view_count": null,
       "_view_module": "@jupyter-widgets/base",
       "_view_module_version": "1.2.0",
       "_view_name": "LayoutView",
       "align_content": null,
       "align_items": null,
       "align_self": null,
       "border": null,
       "bottom": null,
       "display": null,
       "flex": null,
       "flex_flow": null,
       "grid_area": null,
       "grid_auto_columns": null,
       "grid_auto_flow": null,
       "grid_auto_rows": null,
       "grid_column": null,
       "grid_gap": null,
       "grid_row": null,
       "grid_template_areas": null,
       "grid_template_columns": null,
       "grid_template_rows": null,
       "height": null,
       "justify_content": null,
       "justify_items": null,
       "left": null,
       "margin": null,
       "max_height": null,
       "max_width": null,
       "min_height": null,
       "min_width": null,
       "object_fit": null,
       "object_position": null,
       "order": null,
       "overflow": null,
       "overflow_x": null,
       "overflow_y": null,
       "padding": null,
       "right": null,
       "top": null,
       "visibility": null,
       "width": null
      }
     },
     "e9ecbc0f824d4113b565e4d4664f9f66": {
      "model_module": "@jupyter-widgets/base",
      "model_module_version": "1.2.0",
      "model_name": "LayoutModel",
      "state": {
       "_model_module": "@jupyter-widgets/base",
       "_model_module_version": "1.2.0",
       "_model_name": "LayoutModel",
       "_view_count": null,
       "_view_module": "@jupyter-widgets/base",
       "_view_module_version": "1.2.0",
       "_view_name": "LayoutView",
       "align_content": null,
       "align_items": null,
       "align_self": null,
       "border": null,
       "bottom": null,
       "display": null,
       "flex": null,
       "flex_flow": null,
       "grid_area": null,
       "grid_auto_columns": null,
       "grid_auto_flow": null,
       "grid_auto_rows": null,
       "grid_column": null,
       "grid_gap": null,
       "grid_row": null,
       "grid_template_areas": null,
       "grid_template_columns": null,
       "grid_template_rows": null,
       "height": null,
       "justify_content": null,
       "justify_items": null,
       "left": null,
       "margin": null,
       "max_height": null,
       "max_width": null,
       "min_height": null,
       "min_width": null,
       "object_fit": null,
       "object_position": null,
       "order": null,
       "overflow": null,
       "overflow_x": null,
       "overflow_y": null,
       "padding": null,
       "right": null,
       "top": null,
       "visibility": null,
       "width": null
      }
     }
    },
    "version_major": 2,
    "version_minor": 0
   }
  }
 },
 "nbformat": 4,
 "nbformat_minor": 5
}
